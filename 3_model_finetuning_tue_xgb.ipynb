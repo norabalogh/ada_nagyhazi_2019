{
 "cells": [
  {
   "cell_type": "code",
   "execution_count": 1,
   "metadata": {},
   "outputs": [],
   "source": [
    "import pandas as pd\n",
    "import numpy as np\n",
    "import matplotlib.pyplot as plt\n",
    "%matplotlib inline"
   ]
  },
  {
   "cell_type": "code",
   "execution_count": 2,
   "metadata": {},
   "outputs": [],
   "source": [
    "from sklearn.model_selection import cross_val_score"
   ]
  },
  {
   "cell_type": "code",
   "execution_count": 3,
   "metadata": {},
   "outputs": [],
   "source": [
    "cust_df = pd.read_csv(\"cust_df_selected_tuesday2.csv\")"
   ]
  },
  {
   "cell_type": "code",
   "execution_count": 4,
   "metadata": {},
   "outputs": [
    {
     "data": {
      "text/html": [
       "<div>\n",
       "<style scoped>\n",
       "    .dataframe tbody tr th:only-of-type {\n",
       "        vertical-align: middle;\n",
       "    }\n",
       "\n",
       "    .dataframe tbody tr th {\n",
       "        vertical-align: top;\n",
       "    }\n",
       "\n",
       "    .dataframe thead th {\n",
       "        text-align: right;\n",
       "    }\n",
       "</style>\n",
       "<table border=\"1\" class=\"dataframe\">\n",
       "  <thead>\n",
       "    <tr style=\"text-align: right;\">\n",
       "      <th></th>\n",
       "      <th>0</th>\n",
       "      <th>1</th>\n",
       "      <th>2</th>\n",
       "      <th>3</th>\n",
       "      <th>4</th>\n",
       "    </tr>\n",
       "  </thead>\n",
       "  <tbody>\n",
       "    <tr>\n",
       "      <th>session_id</th>\n",
       "      <td>exxxxxshop.si-0.00021101047198248773</td>\n",
       "      <td>exxxxxshop.si-0.0002712991769484001</td>\n",
       "      <td>exxxxxshop.si-0.00033158788092821383</td>\n",
       "      <td>exxxxxshop.si-0.00039187658370279567</td>\n",
       "      <td>exxxxxshop.si-0.0004521652850530127</td>\n",
       "    </tr>\n",
       "    <tr>\n",
       "      <th>TARGET_successful_purchase</th>\n",
       "      <td>-1</td>\n",
       "      <td>-1</td>\n",
       "      <td>-1</td>\n",
       "      <td>-1</td>\n",
       "      <td>-1</td>\n",
       "    </tr>\n",
       "    <tr>\n",
       "      <th>test_or_train_flag</th>\n",
       "      <td>1</td>\n",
       "      <td>1</td>\n",
       "      <td>1</td>\n",
       "      <td>1</td>\n",
       "      <td>1</td>\n",
       "    </tr>\n",
       "    <tr>\n",
       "      <th>last_basket_element_number</th>\n",
       "      <td>1</td>\n",
       "      <td>3</td>\n",
       "      <td>12</td>\n",
       "      <td>1</td>\n",
       "      <td>4</td>\n",
       "    </tr>\n",
       "    <tr>\n",
       "      <th>last_click_num</th>\n",
       "      <td>1</td>\n",
       "      <td>4</td>\n",
       "      <td>60</td>\n",
       "      <td>13</td>\n",
       "      <td>56</td>\n",
       "    </tr>\n",
       "    <tr>\n",
       "      <th>last_customer_age</th>\n",
       "      <td>-1</td>\n",
       "      <td>42</td>\n",
       "      <td>31</td>\n",
       "      <td>35</td>\n",
       "      <td>-1</td>\n",
       "    </tr>\n",
       "    <tr>\n",
       "      <th>last_customer_value</th>\n",
       "      <td>-1</td>\n",
       "      <td>491</td>\n",
       "      <td>548</td>\n",
       "      <td>504</td>\n",
       "      <td>-1</td>\n",
       "    </tr>\n",
       "    <tr>\n",
       "      <th>last_duration_of_session</th>\n",
       "      <td>49.166</td>\n",
       "      <td>384.522</td>\n",
       "      <td>1981.1</td>\n",
       "      <td>1471.28</td>\n",
       "      <td>1271.37</td>\n",
       "    </tr>\n",
       "    <tr>\n",
       "      <th>last_last_order_of_customer</th>\n",
       "      <td>-1</td>\n",
       "      <td>64</td>\n",
       "      <td>42</td>\n",
       "      <td>15</td>\n",
       "      <td>-1</td>\n",
       "    </tr>\n",
       "    <tr>\n",
       "      <th>last_level_of_purchasing_process</th>\n",
       "      <td>1</td>\n",
       "      <td>1</td>\n",
       "      <td>1</td>\n",
       "      <td>1</td>\n",
       "      <td>1</td>\n",
       "    </tr>\n",
       "    <tr>\n",
       "      <th>last_lifetime_customer_account</th>\n",
       "      <td>-1</td>\n",
       "      <td>204</td>\n",
       "      <td>45</td>\n",
       "      <td>138</td>\n",
       "      <td>-1</td>\n",
       "    </tr>\n",
       "    <tr>\n",
       "      <th>last_max_val</th>\n",
       "      <td>-1</td>\n",
       "      <td>600</td>\n",
       "      <td>300</td>\n",
       "      <td>1300</td>\n",
       "      <td>-1</td>\n",
       "    </tr>\n",
       "    <tr>\n",
       "      <th>last_maximum_price_of_visited_products</th>\n",
       "      <td>49.99</td>\n",
       "      <td>39.99</td>\n",
       "      <td>89.99</td>\n",
       "      <td>54.99</td>\n",
       "      <td>49.95</td>\n",
       "    </tr>\n",
       "    <tr>\n",
       "      <th>last_minimum_price_of_visited_products</th>\n",
       "      <td>49.99</td>\n",
       "      <td>9.99</td>\n",
       "      <td>6.99</td>\n",
       "      <td>39.99</td>\n",
       "      <td>17.99</td>\n",
       "    </tr>\n",
       "    <tr>\n",
       "      <th>last_num_of_previous_payments</th>\n",
       "      <td>-1</td>\n",
       "      <td>2</td>\n",
       "      <td>4</td>\n",
       "      <td>12</td>\n",
       "      <td>-1</td>\n",
       "    </tr>\n",
       "    <tr>\n",
       "      <th>last_price_of_cheapest_product_in_basket</th>\n",
       "      <td>49.99</td>\n",
       "      <td>9.99</td>\n",
       "      <td>9.99</td>\n",
       "      <td>39.99</td>\n",
       "      <td>39.99</td>\n",
       "    </tr>\n",
       "    <tr>\n",
       "      <th>last_price_of_more_expensive_product_in_basket</th>\n",
       "      <td>49.99</td>\n",
       "      <td>39.99</td>\n",
       "      <td>39.99</td>\n",
       "      <td>39.99</td>\n",
       "      <td>39.99</td>\n",
       "    </tr>\n",
       "    <tr>\n",
       "      <th>last_regio_of_customer</th>\n",
       "      <td>-1</td>\n",
       "      <td>2</td>\n",
       "      <td>2</td>\n",
       "      <td>1</td>\n",
       "      <td>-1</td>\n",
       "    </tr>\n",
       "    <tr>\n",
       "      <th>last_sum_price_of_products_in_basket</th>\n",
       "      <td>49.99</td>\n",
       "      <td>69.97</td>\n",
       "      <td>253.8</td>\n",
       "      <td>39.99</td>\n",
       "      <td>159.96</td>\n",
       "    </tr>\n",
       "    <tr>\n",
       "      <th>last_sum_price_of_visited_products</th>\n",
       "      <td>49.99</td>\n",
       "      <td>89.96</td>\n",
       "      <td>1660.16</td>\n",
       "      <td>134.97</td>\n",
       "      <td>2069.24</td>\n",
       "    </tr>\n",
       "    <tr>\n",
       "      <th>last_weekday</th>\n",
       "      <td>4</td>\n",
       "      <td>4</td>\n",
       "      <td>4</td>\n",
       "      <td>4</td>\n",
       "      <td>4</td>\n",
       "    </tr>\n",
       "    <tr>\n",
       "      <th>last_hour</th>\n",
       "      <td>10</td>\n",
       "      <td>10</td>\n",
       "      <td>11</td>\n",
       "      <td>11</td>\n",
       "      <td>12</td>\n",
       "    </tr>\n",
       "    <tr>\n",
       "      <th>last_minute</th>\n",
       "      <td>30</td>\n",
       "      <td>20</td>\n",
       "      <td>10</td>\n",
       "      <td>0</td>\n",
       "      <td>50</td>\n",
       "    </tr>\n",
       "    <tr>\n",
       "      <th>last_click_avg</th>\n",
       "      <td>49.166</td>\n",
       "      <td>96.1305</td>\n",
       "      <td>33.0183</td>\n",
       "      <td>113.175</td>\n",
       "      <td>22.703</td>\n",
       "    </tr>\n",
       "    <tr>\n",
       "      <th>last_sum_price_ratio</th>\n",
       "      <td>1</td>\n",
       "      <td>0.77779</td>\n",
       "      <td>0.152877</td>\n",
       "      <td>0.296288</td>\n",
       "      <td>0.0773037</td>\n",
       "    </tr>\n",
       "    <tr>\n",
       "      <th>last_max_price_ratio</th>\n",
       "      <td>1</td>\n",
       "      <td>1</td>\n",
       "      <td>0.444383</td>\n",
       "      <td>0.727223</td>\n",
       "      <td>0.800601</td>\n",
       "    </tr>\n",
       "    <tr>\n",
       "      <th>last_min_price_ratio</th>\n",
       "      <td>1</td>\n",
       "      <td>1</td>\n",
       "      <td>1.42918</td>\n",
       "      <td>1</td>\n",
       "      <td>2.2229</td>\n",
       "    </tr>\n",
       "    <tr>\n",
       "      <th>last_new_cust_value</th>\n",
       "      <td>-1</td>\n",
       "      <td>491</td>\n",
       "      <td>548</td>\n",
       "      <td>504</td>\n",
       "      <td>-1</td>\n",
       "    </tr>\n",
       "    <tr>\n",
       "      <th>min_basket_element_number</th>\n",
       "      <td>1</td>\n",
       "      <td>1</td>\n",
       "      <td>1</td>\n",
       "      <td>1</td>\n",
       "      <td>1</td>\n",
       "    </tr>\n",
       "    <tr>\n",
       "      <th>min_click_num</th>\n",
       "      <td>1</td>\n",
       "      <td>2</td>\n",
       "      <td>15</td>\n",
       "      <td>7</td>\n",
       "      <td>46</td>\n",
       "    </tr>\n",
       "    <tr>\n",
       "      <th>min_duration_of_session</th>\n",
       "      <td>0</td>\n",
       "      <td>110.492</td>\n",
       "      <td>181.904</td>\n",
       "      <td>960.382</td>\n",
       "      <td>791.726</td>\n",
       "    </tr>\n",
       "    <tr>\n",
       "      <th>min_level_of_purchasing_process</th>\n",
       "      <td>1</td>\n",
       "      <td>1</td>\n",
       "      <td>1</td>\n",
       "      <td>1</td>\n",
       "      <td>1</td>\n",
       "    </tr>\n",
       "    <tr>\n",
       "      <th>min_maximum_price_of_visited_products</th>\n",
       "      <td>49.99</td>\n",
       "      <td>19.99</td>\n",
       "      <td>89.99</td>\n",
       "      <td>39.99</td>\n",
       "      <td>49.95</td>\n",
       "    </tr>\n",
       "    <tr>\n",
       "      <th>min_sum_price_of_visited_products</th>\n",
       "      <td>49.99</td>\n",
       "      <td>39.98</td>\n",
       "      <td>704.77</td>\n",
       "      <td>79.98</td>\n",
       "      <td>1669.34</td>\n",
       "    </tr>\n",
       "    <tr>\n",
       "      <th>max_minimum_price_of_visited_products</th>\n",
       "      <td>49.99</td>\n",
       "      <td>19.99</td>\n",
       "      <td>14.99</td>\n",
       "      <td>39.99</td>\n",
       "      <td>17.99</td>\n",
       "    </tr>\n",
       "    <tr>\n",
       "      <th>num_sessions</th>\n",
       "      <td>5</td>\n",
       "      <td>6</td>\n",
       "      <td>21</td>\n",
       "      <td>4</td>\n",
       "      <td>12</td>\n",
       "    </tr>\n",
       "    <tr>\n",
       "      <th>click_avg_first</th>\n",
       "      <td>0</td>\n",
       "      <td>55.246</td>\n",
       "      <td>12.1269</td>\n",
       "      <td>137.197</td>\n",
       "      <td>17.2114</td>\n",
       "    </tr>\n",
       "  </tbody>\n",
       "</table>\n",
       "</div>"
      ],
      "text/plain": [
       "                                                                                   0  \\\n",
       "session_id                                      exxxxxshop.si-0.00021101047198248773   \n",
       "TARGET_successful_purchase                                                        -1   \n",
       "test_or_train_flag                                                                 1   \n",
       "last_basket_element_number                                                         1   \n",
       "last_click_num                                                                     1   \n",
       "last_customer_age                                                                 -1   \n",
       "last_customer_value                                                               -1   \n",
       "last_duration_of_session                                                      49.166   \n",
       "last_last_order_of_customer                                                       -1   \n",
       "last_level_of_purchasing_process                                                   1   \n",
       "last_lifetime_customer_account                                                    -1   \n",
       "last_max_val                                                                      -1   \n",
       "last_maximum_price_of_visited_products                                         49.99   \n",
       "last_minimum_price_of_visited_products                                         49.99   \n",
       "last_num_of_previous_payments                                                     -1   \n",
       "last_price_of_cheapest_product_in_basket                                       49.99   \n",
       "last_price_of_more_expensive_product_in_basket                                 49.99   \n",
       "last_regio_of_customer                                                            -1   \n",
       "last_sum_price_of_products_in_basket                                           49.99   \n",
       "last_sum_price_of_visited_products                                             49.99   \n",
       "last_weekday                                                                       4   \n",
       "last_hour                                                                         10   \n",
       "last_minute                                                                       30   \n",
       "last_click_avg                                                                49.166   \n",
       "last_sum_price_ratio                                                               1   \n",
       "last_max_price_ratio                                                               1   \n",
       "last_min_price_ratio                                                               1   \n",
       "last_new_cust_value                                                               -1   \n",
       "min_basket_element_number                                                          1   \n",
       "min_click_num                                                                      1   \n",
       "min_duration_of_session                                                            0   \n",
       "min_level_of_purchasing_process                                                    1   \n",
       "min_maximum_price_of_visited_products                                          49.99   \n",
       "min_sum_price_of_visited_products                                              49.99   \n",
       "max_minimum_price_of_visited_products                                          49.99   \n",
       "num_sessions                                                                       5   \n",
       "click_avg_first                                                                    0   \n",
       "\n",
       "                                                                                  1  \\\n",
       "session_id                                      exxxxxshop.si-0.0002712991769484001   \n",
       "TARGET_successful_purchase                                                       -1   \n",
       "test_or_train_flag                                                                1   \n",
       "last_basket_element_number                                                        3   \n",
       "last_click_num                                                                    4   \n",
       "last_customer_age                                                                42   \n",
       "last_customer_value                                                             491   \n",
       "last_duration_of_session                                                    384.522   \n",
       "last_last_order_of_customer                                                      64   \n",
       "last_level_of_purchasing_process                                                  1   \n",
       "last_lifetime_customer_account                                                  204   \n",
       "last_max_val                                                                    600   \n",
       "last_maximum_price_of_visited_products                                        39.99   \n",
       "last_minimum_price_of_visited_products                                         9.99   \n",
       "last_num_of_previous_payments                                                     2   \n",
       "last_price_of_cheapest_product_in_basket                                       9.99   \n",
       "last_price_of_more_expensive_product_in_basket                                39.99   \n",
       "last_regio_of_customer                                                            2   \n",
       "last_sum_price_of_products_in_basket                                          69.97   \n",
       "last_sum_price_of_visited_products                                            89.96   \n",
       "last_weekday                                                                      4   \n",
       "last_hour                                                                        10   \n",
       "last_minute                                                                      20   \n",
       "last_click_avg                                                              96.1305   \n",
       "last_sum_price_ratio                                                        0.77779   \n",
       "last_max_price_ratio                                                              1   \n",
       "last_min_price_ratio                                                              1   \n",
       "last_new_cust_value                                                             491   \n",
       "min_basket_element_number                                                         1   \n",
       "min_click_num                                                                     2   \n",
       "min_duration_of_session                                                     110.492   \n",
       "min_level_of_purchasing_process                                                   1   \n",
       "min_maximum_price_of_visited_products                                         19.99   \n",
       "min_sum_price_of_visited_products                                             39.98   \n",
       "max_minimum_price_of_visited_products                                         19.99   \n",
       "num_sessions                                                                      6   \n",
       "click_avg_first                                                              55.246   \n",
       "\n",
       "                                                                                   2  \\\n",
       "session_id                                      exxxxxshop.si-0.00033158788092821383   \n",
       "TARGET_successful_purchase                                                        -1   \n",
       "test_or_train_flag                                                                 1   \n",
       "last_basket_element_number                                                        12   \n",
       "last_click_num                                                                    60   \n",
       "last_customer_age                                                                 31   \n",
       "last_customer_value                                                              548   \n",
       "last_duration_of_session                                                      1981.1   \n",
       "last_last_order_of_customer                                                       42   \n",
       "last_level_of_purchasing_process                                                   1   \n",
       "last_lifetime_customer_account                                                    45   \n",
       "last_max_val                                                                     300   \n",
       "last_maximum_price_of_visited_products                                         89.99   \n",
       "last_minimum_price_of_visited_products                                          6.99   \n",
       "last_num_of_previous_payments                                                      4   \n",
       "last_price_of_cheapest_product_in_basket                                        9.99   \n",
       "last_price_of_more_expensive_product_in_basket                                 39.99   \n",
       "last_regio_of_customer                                                             2   \n",
       "last_sum_price_of_products_in_basket                                           253.8   \n",
       "last_sum_price_of_visited_products                                           1660.16   \n",
       "last_weekday                                                                       4   \n",
       "last_hour                                                                         11   \n",
       "last_minute                                                                       10   \n",
       "last_click_avg                                                               33.0183   \n",
       "last_sum_price_ratio                                                        0.152877   \n",
       "last_max_price_ratio                                                        0.444383   \n",
       "last_min_price_ratio                                                         1.42918   \n",
       "last_new_cust_value                                                              548   \n",
       "min_basket_element_number                                                          1   \n",
       "min_click_num                                                                     15   \n",
       "min_duration_of_session                                                      181.904   \n",
       "min_level_of_purchasing_process                                                    1   \n",
       "min_maximum_price_of_visited_products                                          89.99   \n",
       "min_sum_price_of_visited_products                                             704.77   \n",
       "max_minimum_price_of_visited_products                                          14.99   \n",
       "num_sessions                                                                      21   \n",
       "click_avg_first                                                              12.1269   \n",
       "\n",
       "                                                                                   3  \\\n",
       "session_id                                      exxxxxshop.si-0.00039187658370279567   \n",
       "TARGET_successful_purchase                                                        -1   \n",
       "test_or_train_flag                                                                 1   \n",
       "last_basket_element_number                                                         1   \n",
       "last_click_num                                                                    13   \n",
       "last_customer_age                                                                 35   \n",
       "last_customer_value                                                              504   \n",
       "last_duration_of_session                                                     1471.28   \n",
       "last_last_order_of_customer                                                       15   \n",
       "last_level_of_purchasing_process                                                   1   \n",
       "last_lifetime_customer_account                                                   138   \n",
       "last_max_val                                                                    1300   \n",
       "last_maximum_price_of_visited_products                                         54.99   \n",
       "last_minimum_price_of_visited_products                                         39.99   \n",
       "last_num_of_previous_payments                                                     12   \n",
       "last_price_of_cheapest_product_in_basket                                       39.99   \n",
       "last_price_of_more_expensive_product_in_basket                                 39.99   \n",
       "last_regio_of_customer                                                             1   \n",
       "last_sum_price_of_products_in_basket                                           39.99   \n",
       "last_sum_price_of_visited_products                                            134.97   \n",
       "last_weekday                                                                       4   \n",
       "last_hour                                                                         11   \n",
       "last_minute                                                                        0   \n",
       "last_click_avg                                                               113.175   \n",
       "last_sum_price_ratio                                                        0.296288   \n",
       "last_max_price_ratio                                                        0.727223   \n",
       "last_min_price_ratio                                                               1   \n",
       "last_new_cust_value                                                              504   \n",
       "min_basket_element_number                                                          1   \n",
       "min_click_num                                                                      7   \n",
       "min_duration_of_session                                                      960.382   \n",
       "min_level_of_purchasing_process                                                    1   \n",
       "min_maximum_price_of_visited_products                                          39.99   \n",
       "min_sum_price_of_visited_products                                              79.98   \n",
       "max_minimum_price_of_visited_products                                          39.99   \n",
       "num_sessions                                                                       4   \n",
       "click_avg_first                                                              137.197   \n",
       "\n",
       "                                                                                  4  \n",
       "session_id                                      exxxxxshop.si-0.0004521652850530127  \n",
       "TARGET_successful_purchase                                                       -1  \n",
       "test_or_train_flag                                                                1  \n",
       "last_basket_element_number                                                        4  \n",
       "last_click_num                                                                   56  \n",
       "last_customer_age                                                                -1  \n",
       "last_customer_value                                                              -1  \n",
       "last_duration_of_session                                                    1271.37  \n",
       "last_last_order_of_customer                                                      -1  \n",
       "last_level_of_purchasing_process                                                  1  \n",
       "last_lifetime_customer_account                                                   -1  \n",
       "last_max_val                                                                     -1  \n",
       "last_maximum_price_of_visited_products                                        49.95  \n",
       "last_minimum_price_of_visited_products                                        17.99  \n",
       "last_num_of_previous_payments                                                    -1  \n",
       "last_price_of_cheapest_product_in_basket                                      39.99  \n",
       "last_price_of_more_expensive_product_in_basket                                39.99  \n",
       "last_regio_of_customer                                                           -1  \n",
       "last_sum_price_of_products_in_basket                                         159.96  \n",
       "last_sum_price_of_visited_products                                          2069.24  \n",
       "last_weekday                                                                      4  \n",
       "last_hour                                                                        12  \n",
       "last_minute                                                                      50  \n",
       "last_click_avg                                                               22.703  \n",
       "last_sum_price_ratio                                                      0.0773037  \n",
       "last_max_price_ratio                                                       0.800601  \n",
       "last_min_price_ratio                                                         2.2229  \n",
       "last_new_cust_value                                                              -1  \n",
       "min_basket_element_number                                                         1  \n",
       "min_click_num                                                                    46  \n",
       "min_duration_of_session                                                     791.726  \n",
       "min_level_of_purchasing_process                                                   1  \n",
       "min_maximum_price_of_visited_products                                         49.95  \n",
       "min_sum_price_of_visited_products                                           1669.34  \n",
       "max_minimum_price_of_visited_products                                         17.99  \n",
       "num_sessions                                                                     12  \n",
       "click_avg_first                                                             17.2114  "
      ]
     },
     "execution_count": 4,
     "metadata": {},
     "output_type": "execute_result"
    }
   ],
   "source": [
    "cust_df.head().T"
   ]
  },
  {
   "cell_type": "code",
   "execution_count": 5,
   "metadata": {},
   "outputs": [
    {
     "data": {
      "text/plain": [
       "(49086, 37)"
      ]
     },
     "execution_count": 5,
     "metadata": {},
     "output_type": "execute_result"
    }
   ],
   "source": [
    "cust_df.shape"
   ]
  },
  {
   "cell_type": "code",
   "execution_count": 6,
   "metadata": {},
   "outputs": [],
   "source": [
    "target = 'TARGET_successful_purchase'\n",
    "bemeno_valtozok = list(cust_df.columns)[3:]"
   ]
  },
  {
   "cell_type": "code",
   "execution_count": 25,
   "metadata": {},
   "outputs": [
    {
     "data": {
      "text/plain": [
       "34"
      ]
     },
     "execution_count": 25,
     "metadata": {},
     "output_type": "execute_result"
    }
   ],
   "source": [
    "len(bemeno_valtozok)"
   ]
  },
  {
   "cell_type": "code",
   "execution_count": 7,
   "metadata": {},
   "outputs": [
    {
     "name": "stdout",
     "output_type": "stream",
     "text": [
      "train:  (24584, 37)\n",
      "test:  (24502, 37)\n"
     ]
    }
   ],
   "source": [
    "train = cust_df[cust_df['test_or_train_flag']==0].copy()\n",
    "test = cust_df[cust_df['test_or_train_flag']==1].copy()\n",
    "print(\"train: \", train.shape)\n",
    "print(\"test: \", test.shape)"
   ]
  },
  {
   "cell_type": "markdown",
   "metadata": {},
   "source": [
    "# XGBoost and grid search\n",
    "Ideas from:  \n",
    "https://towardsdatascience.com/a-beginners-guide-to-xgboost-87f5d4c30ed7  \n",
    "https://xgboost.readthedocs.io/en/latest/python/python_api.html"
   ]
  },
  {
   "cell_type": "code",
   "execution_count": 8,
   "metadata": {},
   "outputs": [],
   "source": [
    "import xgboost as xgb"
   ]
  },
  {
   "cell_type": "code",
   "execution_count": 9,
   "metadata": {},
   "outputs": [],
   "source": [
    "from sklearn.model_selection import GridSearchCV"
   ]
  },
  {
   "cell_type": "code",
   "execution_count": 13,
   "metadata": {},
   "outputs": [],
   "source": [
    "xgb_model = xgb.XGBClassifier(random_state=42)"
   ]
  },
  {
   "cell_type": "code",
   "execution_count": 14,
   "metadata": {},
   "outputs": [],
   "source": [
    "parameters = {'gamma': [0.1, 0.4, 1, 5],\n",
    "              'learning_rate': [0.05, 0.1, 0.15, 0.20], #so called `eta` value\n",
    "              'max_depth': [5, 10, 15],\n",
    "              'min_child_weight': [5, 10],\n",
    "              'silent': [1],\n",
    "              'subsample': [0.8],\n",
    "              'colsample_bytree': [0.5, 1.0],\n",
    "              'n_estimators': [20, 40], #number of trees, change it to 1000 for better results\n",
    "              'missing':[-1],\n",
    "              'seed': [1337]}"
   ]
  },
  {
   "cell_type": "code",
   "execution_count": 15,
   "metadata": {},
   "outputs": [],
   "source": [
    "clf = GridSearchCV(xgb_model, parameters, n_jobs=5, \n",
    "                   cv=3, \n",
    "                   scoring='roc_auc',\n",
    "                   verbose=2)"
   ]
  },
  {
   "cell_type": "code",
   "execution_count": 16,
   "metadata": {},
   "outputs": [
    {
     "name": "stdout",
     "output_type": "stream",
     "text": [
      "Fitting 3 folds for each of 384 candidates, totalling 1152 fits\n"
     ]
    },
    {
     "name": "stderr",
     "output_type": "stream",
     "text": [
      "[Parallel(n_jobs=5)]: Using backend LokyBackend with 5 concurrent workers.\n",
      "[Parallel(n_jobs=5)]: Done  31 tasks      | elapsed:  2.8min\n",
      "[Parallel(n_jobs=5)]: Done 152 tasks      | elapsed:  9.9min\n",
      "[Parallel(n_jobs=5)]: Done 355 tasks      | elapsed: 21.8min\n",
      "[Parallel(n_jobs=5)]: Done 638 tasks      | elapsed: 40.4min\n",
      "[Parallel(n_jobs=5)]: Done 1003 tasks      | elapsed: 76.3min\n",
      "[Parallel(n_jobs=5)]: Done 1152 out of 1152 | elapsed: 88.5min finished\n"
     ]
    },
    {
     "data": {
      "text/plain": [
       "GridSearchCV(cv=3, error_score='raise-deprecating',\n",
       "             estimator=XGBClassifier(base_score=0.5, booster='gbtree',\n",
       "                                     colsample_bylevel=1, colsample_bynode=1,\n",
       "                                     colsample_bytree=1, gamma=0,\n",
       "                                     learning_rate=0.1, max_delta_step=0,\n",
       "                                     max_depth=3, min_child_weight=1,\n",
       "                                     missing=None, n_estimators=100, n_jobs=1,\n",
       "                                     nthread=None, objective='binary:logistic',\n",
       "                                     random_state=42, reg_alpha=0, reg_...\n",
       "                                     subsample=1, verbosity=1),\n",
       "             iid='warn', n_jobs=5,\n",
       "             param_grid={'colsample_bytree': [0.5, 1.0],\n",
       "                         'gamma': [0.1, 0.4, 1, 5],\n",
       "                         'learning_rate': [0.05, 0.1, 0.15, 0.2],\n",
       "                         'max_depth': [5, 10, 15], 'min_child_weight': [5, 10],\n",
       "                         'missing': [-1], 'n_estimators': [20, 40],\n",
       "                         'seed': [1337], 'silent': [1], 'subsample': [0.8]},\n",
       "             pre_dispatch='2*n_jobs', refit=True, return_train_score=False,\n",
       "             scoring='roc_auc', verbose=2)"
      ]
     },
     "execution_count": 16,
     "metadata": {},
     "output_type": "execute_result"
    }
   ],
   "source": [
    "clf.fit(train[bemeno_valtozok], train[target])"
   ]
  },
  {
   "cell_type": "code",
   "execution_count": 17,
   "metadata": {},
   "outputs": [
    {
     "name": "stdout",
     "output_type": "stream",
     "text": [
      "0.8947999466084426\n"
     ]
    }
   ],
   "source": [
    "print(clf.best_score_)"
   ]
  },
  {
   "cell_type": "code",
   "execution_count": 18,
   "metadata": {},
   "outputs": [
    {
     "data": {
      "text/plain": [
       "{'colsample_bytree': 1.0,\n",
       " 'gamma': 1,\n",
       " 'learning_rate': 0.15,\n",
       " 'max_depth': 5,\n",
       " 'min_child_weight': 5,\n",
       " 'missing': -1,\n",
       " 'n_estimators': 40,\n",
       " 'seed': 1337,\n",
       " 'silent': 1,\n",
       " 'subsample': 0.8}"
      ]
     },
     "execution_count": 18,
     "metadata": {},
     "output_type": "execute_result"
    }
   ],
   "source": [
    "clf.best_params_"
   ]
  },
  {
   "cell_type": "code",
   "execution_count": 19,
   "metadata": {},
   "outputs": [
    {
     "data": {
      "text/plain": [
       "XGBClassifier(base_score=0.5, booster='gbtree', colsample_bylevel=1,\n",
       "              colsample_bynode=1, colsample_bytree=1.0, gamma=1,\n",
       "              learning_rate=0.15, max_delta_step=0, max_depth=5,\n",
       "              min_child_weight=5, missing=-1, n_estimators=40, n_jobs=1,\n",
       "              nthread=None, objective='binary:logistic', random_state=42,\n",
       "              reg_alpha=0, reg_lambda=1, scale_pos_weight=1, seed=1337,\n",
       "              silent=1, subsample=0.8, verbosity=1)"
      ]
     },
     "execution_count": 19,
     "metadata": {},
     "output_type": "execute_result"
    }
   ],
   "source": [
    "bestmodel = clf.best_estimator_\n",
    "bestmodel"
   ]
  },
  {
   "cell_type": "markdown",
   "metadata": {},
   "source": [
    "Evaluation:"
   ]
  },
  {
   "cell_type": "code",
   "execution_count": 20,
   "metadata": {},
   "outputs": [
    {
     "name": "stdout",
     "output_type": "stream",
     "text": [
      "0.8955969706184795\n",
      "0.886958164320369\n",
      "0.9072021747912293\n"
     ]
    }
   ],
   "source": [
    "scores_best = cross_val_score(bestmodel, train[bemeno_valtozok], train[target], cv=10, scoring='roc_auc')\n",
    "print(scores_best.mean())\n",
    "print(scores_best.min())\n",
    "print(scores_best.max())"
   ]
  },
  {
   "cell_type": "code",
   "execution_count": 21,
   "metadata": {},
   "outputs": [],
   "source": [
    "test['tipp'] = bestmodel.predict_proba(test[bemeno_valtozok])[:,1]"
   ]
  },
  {
   "cell_type": "code",
   "execution_count": 22,
   "metadata": {},
   "outputs": [],
   "source": [
    "sub = test[['session_id', 'tipp']]\n",
    "sub.columns = ['session_id', 'prob']"
   ]
  },
  {
   "cell_type": "code",
   "execution_count": 23,
   "metadata": {},
   "outputs": [
    {
     "data": {
      "text/html": [
       "<div>\n",
       "<style scoped>\n",
       "    .dataframe tbody tr th:only-of-type {\n",
       "        vertical-align: middle;\n",
       "    }\n",
       "\n",
       "    .dataframe tbody tr th {\n",
       "        vertical-align: top;\n",
       "    }\n",
       "\n",
       "    .dataframe thead th {\n",
       "        text-align: right;\n",
       "    }\n",
       "</style>\n",
       "<table border=\"1\" class=\"dataframe\">\n",
       "  <thead>\n",
       "    <tr style=\"text-align: right;\">\n",
       "      <th></th>\n",
       "      <th>session_id</th>\n",
       "      <th>prob</th>\n",
       "    </tr>\n",
       "  </thead>\n",
       "  <tbody>\n",
       "    <tr>\n",
       "      <th>0</th>\n",
       "      <td>exxxxxshop.si-0.00021101047198248773</td>\n",
       "      <td>0.041005</td>\n",
       "    </tr>\n",
       "    <tr>\n",
       "      <th>1</th>\n",
       "      <td>exxxxxshop.si-0.0002712991769484001</td>\n",
       "      <td>0.801088</td>\n",
       "    </tr>\n",
       "    <tr>\n",
       "      <th>2</th>\n",
       "      <td>exxxxxshop.si-0.00033158788092821383</td>\n",
       "      <td>0.850897</td>\n",
       "    </tr>\n",
       "    <tr>\n",
       "      <th>3</th>\n",
       "      <td>exxxxxshop.si-0.00039187658370279567</td>\n",
       "      <td>0.737692</td>\n",
       "    </tr>\n",
       "    <tr>\n",
       "      <th>4</th>\n",
       "      <td>exxxxxshop.si-0.0004521652850530127</td>\n",
       "      <td>0.528090</td>\n",
       "    </tr>\n",
       "  </tbody>\n",
       "</table>\n",
       "</div>"
      ],
      "text/plain": [
       "                             session_id      prob\n",
       "0  exxxxxshop.si-0.00021101047198248773  0.041005\n",
       "1   exxxxxshop.si-0.0002712991769484001  0.801088\n",
       "2  exxxxxshop.si-0.00033158788092821383  0.850897\n",
       "3  exxxxxshop.si-0.00039187658370279567  0.737692\n",
       "4   exxxxxshop.si-0.0004521652850530127  0.528090"
      ]
     },
     "execution_count": 23,
     "metadata": {},
     "output_type": "execute_result"
    }
   ],
   "source": [
    "sub.head()"
   ]
  },
  {
   "cell_type": "code",
   "execution_count": 24,
   "metadata": {},
   "outputs": [],
   "source": [
    "sub.to_csv(\"submission_tue_xgb.csv\", index=False)"
   ]
  },
  {
   "cell_type": "markdown",
   "metadata": {},
   "source": [
    "Public score: 89.2 %"
   ]
  },
  {
   "cell_type": "code",
   "execution_count": 26,
   "metadata": {},
   "outputs": [],
   "source": [
    "model2 = xgb.XGBClassifier(colsample_bytree=1.0,\n",
    "                           gamma=1, learning_rate=0.15,\n",
    "                           max_depth=5, min_child_weight=5,\n",
    "                           missing=-1, n_estimators=100,\n",
    "                           seed=1337,\n",
    "                           silent= 1,\n",
    "                           subsample=0.8,\n",
    "                           random_state=42)"
   ]
  },
  {
   "cell_type": "code",
   "execution_count": 27,
   "metadata": {},
   "outputs": [
    {
     "name": "stdout",
     "output_type": "stream",
     "text": [
      "0.8953819875309511\n",
      "0.8846019247594051\n",
      "0.9083426124764707\n"
     ]
    }
   ],
   "source": [
    "scores_2 = cross_val_score(model2, train[bemeno_valtozok], train[target], cv=10, scoring='roc_auc')\n",
    "print(scores_2.mean())\n",
    "print(scores_2.min())\n",
    "print(scores_2.max())"
   ]
  },
  {
   "cell_type": "markdown",
   "metadata": {},
   "source": [
    "---"
   ]
  },
  {
   "cell_type": "markdown",
   "metadata": {},
   "source": [
    "## 2nd round"
   ]
  },
  {
   "cell_type": "code",
   "execution_count": 28,
   "metadata": {},
   "outputs": [],
   "source": [
    "xgb_model2 = xgb.XGBClassifier(random_state=42)\n",
    "parameters = {'gamma': [1],\n",
    "              'learning_rate': [0.12, 0.15, 0.18], #so called `eta` value\n",
    "              'max_depth': [4,5,6],\n",
    "              'min_child_weight': [3, 5],\n",
    "              'silent': [1],\n",
    "              'subsample': [0.8],\n",
    "              'colsample_bytree': [1.0],\n",
    "              'n_estimators': [50,100], #number of trees, change it to 1000 for better results\n",
    "              'missing':[-1],\n",
    "              'seed': [1337]}\n",
    "clf2 = GridSearchCV(xgb_model2, parameters, n_jobs=5, \n",
    "                   cv=3, \n",
    "                   scoring='roc_auc',\n",
    "                   verbose=2)"
   ]
  },
  {
   "cell_type": "code",
   "execution_count": 29,
   "metadata": {},
   "outputs": [
    {
     "name": "stdout",
     "output_type": "stream",
     "text": [
      "Fitting 3 folds for each of 36 candidates, totalling 108 fits\n"
     ]
    },
    {
     "name": "stderr",
     "output_type": "stream",
     "text": [
      "[Parallel(n_jobs=5)]: Using backend LokyBackend with 5 concurrent workers.\n",
      "[Parallel(n_jobs=5)]: Done  31 tasks      | elapsed:  4.8min\n",
      "[Parallel(n_jobs=5)]: Done 108 out of 108 | elapsed: 17.2min finished\n"
     ]
    },
    {
     "data": {
      "text/plain": [
       "GridSearchCV(cv=3, error_score='raise-deprecating',\n",
       "             estimator=XGBClassifier(base_score=0.5, booster='gbtree',\n",
       "                                     colsample_bylevel=1, colsample_bynode=1,\n",
       "                                     colsample_bytree=1, gamma=0,\n",
       "                                     learning_rate=0.1, max_delta_step=0,\n",
       "                                     max_depth=3, min_child_weight=1,\n",
       "                                     missing=None, n_estimators=100, n_jobs=1,\n",
       "                                     nthread=None, objective='binary:logistic',\n",
       "                                     random_state=42, reg_alpha=0, reg_...\n",
       "                                     scale_pos_weight=1, seed=None, silent=None,\n",
       "                                     subsample=1, verbosity=1),\n",
       "             iid='warn', n_jobs=5,\n",
       "             param_grid={'colsample_bytree': [1.0], 'gamma': [1],\n",
       "                         'learning_rate': [0.12, 0.15, 0.18],\n",
       "                         'max_depth': [4, 5, 6], 'min_child_weight': [3, 5],\n",
       "                         'missing': [-1], 'n_estimators': [50, 100],\n",
       "                         'seed': [1337], 'silent': [1], 'subsample': [0.8]},\n",
       "             pre_dispatch='2*n_jobs', refit=True, return_train_score=False,\n",
       "             scoring='roc_auc', verbose=2)"
      ]
     },
     "execution_count": 29,
     "metadata": {},
     "output_type": "execute_result"
    }
   ],
   "source": [
    "clf2.fit(train[bemeno_valtozok], train[target])"
   ]
  },
  {
   "cell_type": "code",
   "execution_count": 30,
   "metadata": {},
   "outputs": [
    {
     "name": "stdout",
     "output_type": "stream",
     "text": [
      "0.8958026217552304\n"
     ]
    }
   ],
   "source": [
    "print(clf2.best_score_)"
   ]
  },
  {
   "cell_type": "code",
   "execution_count": 31,
   "metadata": {},
   "outputs": [
    {
     "data": {
      "text/plain": [
       "{'colsample_bytree': 1.0,\n",
       " 'gamma': 1,\n",
       " 'learning_rate': 0.12,\n",
       " 'max_depth': 6,\n",
       " 'min_child_weight': 3,\n",
       " 'missing': -1,\n",
       " 'n_estimators': 50,\n",
       " 'seed': 1337,\n",
       " 'silent': 1,\n",
       " 'subsample': 0.8}"
      ]
     },
     "execution_count": 31,
     "metadata": {},
     "output_type": "execute_result"
    }
   ],
   "source": [
    "clf2.best_params_"
   ]
  },
  {
   "cell_type": "code",
   "execution_count": 32,
   "metadata": {},
   "outputs": [
    {
     "data": {
      "text/plain": [
       "XGBClassifier(base_score=0.5, booster='gbtree', colsample_bylevel=1,\n",
       "              colsample_bynode=1, colsample_bytree=1.0, gamma=1,\n",
       "              learning_rate=0.12, max_delta_step=0, max_depth=6,\n",
       "              min_child_weight=3, missing=-1, n_estimators=50, n_jobs=1,\n",
       "              nthread=None, objective='binary:logistic', random_state=42,\n",
       "              reg_alpha=0, reg_lambda=1, scale_pos_weight=1, seed=1337,\n",
       "              silent=1, subsample=0.8, verbosity=1)"
      ]
     },
     "execution_count": 32,
     "metadata": {},
     "output_type": "execute_result"
    }
   ],
   "source": [
    "bestmodel2 = clf2.best_estimator_\n",
    "bestmodel2"
   ]
  },
  {
   "cell_type": "code",
   "execution_count": 33,
   "metadata": {},
   "outputs": [
    {
     "name": "stdout",
     "output_type": "stream",
     "text": [
      "0.896579345803268\n",
      "0.8860024125772158\n",
      "0.9081961345740873\n"
     ]
    }
   ],
   "source": [
    "scores_best2 = cross_val_score(bestmodel2, train[bemeno_valtozok], train[target], cv=10, scoring='roc_auc')\n",
    "print(scores_best2.mean())\n",
    "print(scores_best2.min())\n",
    "print(scores_best2.max())"
   ]
  },
  {
   "cell_type": "code",
   "execution_count": 34,
   "metadata": {},
   "outputs": [],
   "source": [
    "test['tipp'] = bestmodel2.predict_proba(test[bemeno_valtozok])[:,1]"
   ]
  },
  {
   "cell_type": "code",
   "execution_count": 35,
   "metadata": {},
   "outputs": [
    {
     "data": {
      "text/html": [
       "<div>\n",
       "<style scoped>\n",
       "    .dataframe tbody tr th:only-of-type {\n",
       "        vertical-align: middle;\n",
       "    }\n",
       "\n",
       "    .dataframe tbody tr th {\n",
       "        vertical-align: top;\n",
       "    }\n",
       "\n",
       "    .dataframe thead th {\n",
       "        text-align: right;\n",
       "    }\n",
       "</style>\n",
       "<table border=\"1\" class=\"dataframe\">\n",
       "  <thead>\n",
       "    <tr style=\"text-align: right;\">\n",
       "      <th></th>\n",
       "      <th>session_id</th>\n",
       "      <th>prob</th>\n",
       "    </tr>\n",
       "  </thead>\n",
       "  <tbody>\n",
       "    <tr>\n",
       "      <th>0</th>\n",
       "      <td>exxxxxshop.si-0.00021101047198248773</td>\n",
       "      <td>0.027484</td>\n",
       "    </tr>\n",
       "    <tr>\n",
       "      <th>1</th>\n",
       "      <td>exxxxxshop.si-0.0002712991769484001</td>\n",
       "      <td>0.854700</td>\n",
       "    </tr>\n",
       "    <tr>\n",
       "      <th>2</th>\n",
       "      <td>exxxxxshop.si-0.00033158788092821383</td>\n",
       "      <td>0.852925</td>\n",
       "    </tr>\n",
       "    <tr>\n",
       "      <th>3</th>\n",
       "      <td>exxxxxshop.si-0.00039187658370279567</td>\n",
       "      <td>0.707910</td>\n",
       "    </tr>\n",
       "    <tr>\n",
       "      <th>4</th>\n",
       "      <td>exxxxxshop.si-0.0004521652850530127</td>\n",
       "      <td>0.460031</td>\n",
       "    </tr>\n",
       "  </tbody>\n",
       "</table>\n",
       "</div>"
      ],
      "text/plain": [
       "                             session_id      prob\n",
       "0  exxxxxshop.si-0.00021101047198248773  0.027484\n",
       "1   exxxxxshop.si-0.0002712991769484001  0.854700\n",
       "2  exxxxxshop.si-0.00033158788092821383  0.852925\n",
       "3  exxxxxshop.si-0.00039187658370279567  0.707910\n",
       "4   exxxxxshop.si-0.0004521652850530127  0.460031"
      ]
     },
     "execution_count": 35,
     "metadata": {},
     "output_type": "execute_result"
    }
   ],
   "source": [
    "sub = test[['session_id', 'tipp']]\n",
    "sub.columns = ['session_id', 'prob']\n",
    "sub.head()"
   ]
  },
  {
   "cell_type": "code",
   "execution_count": 36,
   "metadata": {},
   "outputs": [],
   "source": [
    "sub.to_csv(\"submission_tue_xgb2.csv\", index=False)"
   ]
  },
  {
   "cell_type": "markdown",
   "metadata": {},
   "source": [
    "Public score: 0.89310"
   ]
  },
  {
   "cell_type": "markdown",
   "metadata": {},
   "source": [
    "---  \n",
    "# 3 rd round - on the full cust_df"
   ]
  },
  {
   "cell_type": "code",
   "execution_count": 37,
   "metadata": {},
   "outputs": [],
   "source": [
    "cust_df3 = pd.read_csv(\"cust_df_tuesday2.csv\")"
   ]
  },
  {
   "cell_type": "code",
   "execution_count": 38,
   "metadata": {},
   "outputs": [
    {
     "data": {
      "text/plain": [
       "(49086, 82)"
      ]
     },
     "execution_count": 38,
     "metadata": {},
     "output_type": "execute_result"
    }
   ],
   "source": [
    "cust_df3.shape"
   ]
  },
  {
   "cell_type": "code",
   "execution_count": 39,
   "metadata": {},
   "outputs": [
    {
     "data": {
      "text/plain": [
       "79"
      ]
     },
     "execution_count": 39,
     "metadata": {},
     "output_type": "execute_result"
    }
   ],
   "source": [
    "target = 'TARGET_successful_purchase'\n",
    "bemeno_valtozok3 = list(cust_df3.columns)[3:]\n",
    "len(bemeno_valtozok3)"
   ]
  },
  {
   "cell_type": "code",
   "execution_count": 40,
   "metadata": {},
   "outputs": [
    {
     "name": "stdout",
     "output_type": "stream",
     "text": [
      "train:  (24584, 82)\n",
      "test:  (24502, 82)\n"
     ]
    }
   ],
   "source": [
    "train3 = cust_df3[cust_df3['test_or_train_flag']==0].copy()\n",
    "test3 = cust_df3[cust_df3['test_or_train_flag']==1].copy()\n",
    "print(\"train: \", train3.shape)\n",
    "print(\"test: \", test3.shape)"
   ]
  },
  {
   "cell_type": "code",
   "execution_count": 43,
   "metadata": {},
   "outputs": [],
   "source": [
    "xgb_model3 = xgb.XGBClassifier(random_state=42)\n",
    "parameters = {'gamma': [1],\n",
    "              'learning_rate': [0.12, 0.15, 0.18], #so called `eta` value\n",
    "              'max_depth': [5,6,10],\n",
    "              'min_child_weight': [2, 3],\n",
    "              'silent': [1],\n",
    "              'subsample': [0.8],\n",
    "              'colsample_bytree': [1.0],\n",
    "              'n_estimators': [40, 50, 60], #number of trees, change it to 1000 for better results\n",
    "              'missing':[-1],\n",
    "              'seed': [1337]}\n",
    "clf3 = GridSearchCV(xgb_model3, parameters, n_jobs=5, \n",
    "                   cv=3, \n",
    "                   scoring='roc_auc',\n",
    "                   verbose=2)"
   ]
  },
  {
   "cell_type": "code",
   "execution_count": 44,
   "metadata": {},
   "outputs": [
    {
     "name": "stdout",
     "output_type": "stream",
     "text": [
      "Fitting 3 folds for each of 54 candidates, totalling 162 fits\n"
     ]
    },
    {
     "name": "stderr",
     "output_type": "stream",
     "text": [
      "[Parallel(n_jobs=5)]: Using backend LokyBackend with 5 concurrent workers.\n",
      "[Parallel(n_jobs=5)]: Done  31 tasks      | elapsed:  7.9min\n",
      "[Parallel(n_jobs=5)]: Done 152 tasks      | elapsed: 37.2min\n",
      "[Parallel(n_jobs=5)]: Done 162 out of 162 | elapsed: 40.1min finished\n"
     ]
    },
    {
     "data": {
      "text/plain": [
       "GridSearchCV(cv=3, error_score='raise-deprecating',\n",
       "             estimator=XGBClassifier(base_score=0.5, booster='gbtree',\n",
       "                                     colsample_bylevel=1, colsample_bynode=1,\n",
       "                                     colsample_bytree=1, gamma=0,\n",
       "                                     learning_rate=0.1, max_delta_step=0,\n",
       "                                     max_depth=3, min_child_weight=1,\n",
       "                                     missing=None, n_estimators=100, n_jobs=1,\n",
       "                                     nthread=None, objective='binary:logistic',\n",
       "                                     random_state=42, reg_alpha=0, reg_...\n",
       "                                     scale_pos_weight=1, seed=None, silent=None,\n",
       "                                     subsample=1, verbosity=1),\n",
       "             iid='warn', n_jobs=5,\n",
       "             param_grid={'colsample_bytree': [1.0], 'gamma': [1],\n",
       "                         'learning_rate': [0.12, 0.15, 0.18],\n",
       "                         'max_depth': [5, 6, 10], 'min_child_weight': [2, 3],\n",
       "                         'missing': [-1], 'n_estimators': [40, 50, 60],\n",
       "                         'seed': [1337], 'silent': [1], 'subsample': [0.8]},\n",
       "             pre_dispatch='2*n_jobs', refit=True, return_train_score=False,\n",
       "             scoring='roc_auc', verbose=2)"
      ]
     },
     "execution_count": 44,
     "metadata": {},
     "output_type": "execute_result"
    }
   ],
   "source": [
    "clf3.fit(train3[bemeno_valtozok3], train3[target])"
   ]
  },
  {
   "cell_type": "code",
   "execution_count": 45,
   "metadata": {},
   "outputs": [
    {
     "name": "stdout",
     "output_type": "stream",
     "text": [
      "0.8960514552714361\n"
     ]
    },
    {
     "data": {
      "text/plain": [
       "{'colsample_bytree': 1.0,\n",
       " 'gamma': 1,\n",
       " 'learning_rate': 0.12,\n",
       " 'max_depth': 6,\n",
       " 'min_child_weight': 3,\n",
       " 'missing': -1,\n",
       " 'n_estimators': 60,\n",
       " 'seed': 1337,\n",
       " 'silent': 1,\n",
       " 'subsample': 0.8}"
      ]
     },
     "execution_count": 45,
     "metadata": {},
     "output_type": "execute_result"
    }
   ],
   "source": [
    "print(clf3.best_score_)\n",
    "clf3.best_params_"
   ]
  },
  {
   "cell_type": "code",
   "execution_count": 46,
   "metadata": {},
   "outputs": [
    {
     "data": {
      "text/plain": [
       "XGBClassifier(base_score=0.5, booster='gbtree', colsample_bylevel=1,\n",
       "              colsample_bynode=1, colsample_bytree=1.0, gamma=1,\n",
       "              learning_rate=0.12, max_delta_step=0, max_depth=6,\n",
       "              min_child_weight=3, missing=-1, n_estimators=60, n_jobs=1,\n",
       "              nthread=None, objective='binary:logistic', random_state=42,\n",
       "              reg_alpha=0, reg_lambda=1, scale_pos_weight=1, seed=1337,\n",
       "              silent=1, subsample=0.8, verbosity=1)"
      ]
     },
     "execution_count": 46,
     "metadata": {},
     "output_type": "execute_result"
    }
   ],
   "source": [
    "bestmodel3 = clf3.best_estimator_\n",
    "bestmodel3"
   ]
  },
  {
   "cell_type": "code",
   "execution_count": 49,
   "metadata": {},
   "outputs": [
    {
     "name": "stdout",
     "output_type": "stream",
     "text": [
      "0.8977530567336036\n",
      "0.8875036453776611\n",
      "0.9116022429014556\n"
     ]
    }
   ],
   "source": [
    "scores_best3 = cross_val_score(bestmodel3, train3[bemeno_valtozok3], train3[target], cv=10, scoring='roc_auc')\n",
    "print(scores_best3.mean())\n",
    "print(scores_best3.min())\n",
    "print(scores_best3.max())"
   ]
  },
  {
   "cell_type": "code",
   "execution_count": 50,
   "metadata": {},
   "outputs": [
    {
     "data": {
      "text/html": [
       "<div>\n",
       "<style scoped>\n",
       "    .dataframe tbody tr th:only-of-type {\n",
       "        vertical-align: middle;\n",
       "    }\n",
       "\n",
       "    .dataframe tbody tr th {\n",
       "        vertical-align: top;\n",
       "    }\n",
       "\n",
       "    .dataframe thead th {\n",
       "        text-align: right;\n",
       "    }\n",
       "</style>\n",
       "<table border=\"1\" class=\"dataframe\">\n",
       "  <thead>\n",
       "    <tr style=\"text-align: right;\">\n",
       "      <th></th>\n",
       "      <th>session_id</th>\n",
       "      <th>prob</th>\n",
       "    </tr>\n",
       "  </thead>\n",
       "  <tbody>\n",
       "    <tr>\n",
       "      <th>0</th>\n",
       "      <td>exxxxxshop.si-0.00021101047198248773</td>\n",
       "      <td>0.027691</td>\n",
       "    </tr>\n",
       "    <tr>\n",
       "      <th>1</th>\n",
       "      <td>exxxxxshop.si-0.0002712991769484001</td>\n",
       "      <td>0.840585</td>\n",
       "    </tr>\n",
       "    <tr>\n",
       "      <th>2</th>\n",
       "      <td>exxxxxshop.si-0.00033158788092821383</td>\n",
       "      <td>0.887177</td>\n",
       "    </tr>\n",
       "    <tr>\n",
       "      <th>3</th>\n",
       "      <td>exxxxxshop.si-0.00039187658370279567</td>\n",
       "      <td>0.729537</td>\n",
       "    </tr>\n",
       "    <tr>\n",
       "      <th>4</th>\n",
       "      <td>exxxxxshop.si-0.0004521652850530127</td>\n",
       "      <td>0.364380</td>\n",
       "    </tr>\n",
       "  </tbody>\n",
       "</table>\n",
       "</div>"
      ],
      "text/plain": [
       "                             session_id      prob\n",
       "0  exxxxxshop.si-0.00021101047198248773  0.027691\n",
       "1   exxxxxshop.si-0.0002712991769484001  0.840585\n",
       "2  exxxxxshop.si-0.00033158788092821383  0.887177\n",
       "3  exxxxxshop.si-0.00039187658370279567  0.729537\n",
       "4   exxxxxshop.si-0.0004521652850530127  0.364380"
      ]
     },
     "execution_count": 50,
     "metadata": {},
     "output_type": "execute_result"
    }
   ],
   "source": [
    "test['tipp'] = bestmodel3.predict_proba(test3[bemeno_valtozok3])[:,1]\n",
    "sub = test[['session_id', 'tipp']]\n",
    "sub.columns = ['session_id', 'prob']\n",
    "sub.head()"
   ]
  },
  {
   "cell_type": "code",
   "execution_count": 51,
   "metadata": {},
   "outputs": [],
   "source": [
    "sub.to_csv(\"submission_tue_xgb3.csv\", index=False)"
   ]
  },
  {
   "cell_type": "markdown",
   "metadata": {},
   "source": [
    "Public score: 0.89526"
   ]
  },
  {
   "cell_type": "markdown",
   "metadata": {},
   "source": [
    "Ötlet:\n",
    "* frequency encode: https://www.kaggle.com/cdeotte/200-magical-models-santander-0-920  \n",
    "* ensemble more models: https://towardsdatascience.com/two-is-better-than-one-ensembling-models-611ee4fa9bd8  "
   ]
  },
  {
   "cell_type": "code",
   "execution_count": null,
   "metadata": {},
   "outputs": [],
   "source": []
  }
 ],
 "metadata": {
  "kernelspec": {
   "display_name": "Python 3",
   "language": "python",
   "name": "python3"
  },
  "language_info": {
   "codemirror_mode": {
    "name": "ipython",
    "version": 3
   },
   "file_extension": ".py",
   "mimetype": "text/x-python",
   "name": "python",
   "nbconvert_exporter": "python",
   "pygments_lexer": "ipython3",
   "version": "3.6.9"
  }
 },
 "nbformat": 4,
 "nbformat_minor": 2
}
