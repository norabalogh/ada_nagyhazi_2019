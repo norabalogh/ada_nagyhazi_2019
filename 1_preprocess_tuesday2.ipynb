{
 "cells": [
  {
   "cell_type": "markdown",
   "metadata": {},
   "source": [
    "# Preprocessing"
   ]
  },
  {
   "cell_type": "code",
   "execution_count": 1,
   "metadata": {},
   "outputs": [],
   "source": [
    "import pandas as pd\n",
    "import numpy as np\n",
    "import matplotlib.pyplot as plt"
   ]
  },
  {
   "cell_type": "code",
   "execution_count": 2,
   "metadata": {},
   "outputs": [],
   "source": [
    "train_path = '../adanagyhazifeladat2019/public_train_trx.csv'\n",
    "test_path = '../adanagyhazifeladat2019/public_test_trx.csv'"
   ]
  },
  {
   "cell_type": "code",
   "execution_count": 3,
   "metadata": {},
   "outputs": [
    {
     "name": "stdout",
     "output_type": "stream",
     "text": [
      "Alldf:  (418970, 22)\n",
      "Cust_df:  (49086, 3)\n"
     ]
    }
   ],
   "source": [
    "train_df = pd.read_csv(train_path)\n",
    "test_df = pd.read_csv(test_path)\n",
    "alldf = pd.concat([train_df, test_df], sort=True)\n",
    "print(\"Alldf: \", alldf.shape)\n",
    "target = 'TARGET_successful_purchase'\n",
    "cust_df = alldf.groupby('session_id', as_index=False).agg({target:'min',\n",
    "                                                          'test_or_train_flag':'min'})\n",
    "print(\"Cust_df: \", cust_df.shape)\n",
    "sorted_df = alldf.sort_values(['session_id', 'duration_of_session', 'click_num'])\n",
    "sorted_df = sorted_df.reset_index(drop=True)"
   ]
  },
  {
   "cell_type": "markdown",
   "metadata": {},
   "source": [
    "# Merge previous ideas together:\n",
    "* Nagyházi kezdetek 1-2\n",
    "* kisházi példamegoldás"
   ]
  },
  {
   "cell_type": "markdown",
   "metadata": {},
   "source": [
    "### 1. Data from last row of the session:"
   ]
  },
  {
   "cell_type": "code",
   "execution_count": 4,
   "metadata": {},
   "outputs": [
    {
     "name": "stdout",
     "output_type": "stream",
     "text": [
      "sessions_df_last:  (49086, 22)\n",
      "sessions_df_first:  (48930, 22)\n"
     ]
    }
   ],
   "source": [
    "sessions_df_last = sorted_df.drop_duplicates('session_id', keep='last').copy()\n",
    "# 0 clicknumokat eldobjuk, így biztosan lesz kattintás az első sessionben\n",
    "sorted_df=sorted_df[sorted_df['click_num']!=0].copy()\n",
    "sessions_df_first= sorted_df.drop_duplicates('session_id', keep='first').copy()\n",
    "print(\"sessions_df_last: \",sessions_df_last.shape)\n",
    "print(\"sessions_df_first: \", sessions_df_first.shape)"
   ]
  },
  {
   "cell_type": "code",
   "execution_count": 5,
   "metadata": {},
   "outputs": [],
   "source": [
    "sessions_df_last['datetime']=sessions_df_last['start_date_of_session']+\" \"+sessions_df_last['start_time_of_session']\n",
    "sessions_df_last['datetime']=sessions_df_last['datetime'].apply(lambda x: pd.to_datetime(x))\n",
    "sessions_df_last['weekday']=sessions_df_last['datetime'].dt.dayofweek\n",
    "#sessions_df_last['hour']=sessions_df_last['datetime'].apply(lambda x: x.hour)\n",
    "sessions_df_last['hour']=sessions_df_last['datetime'].dt.hour\n",
    "sessions_df_last['minute']=sessions_df_last['datetime'].dt.minute"
   ]
  },
  {
   "cell_type": "code",
   "execution_count": 6,
   "metadata": {},
   "outputs": [],
   "source": [
    "def calc_click(row):\n",
    "    if row['click_num'] == 0:\n",
    "        return row['duration_of_session']\n",
    "    else:\n",
    "        return row['duration_of_session']/row['click_num']"
   ]
  },
  {
   "cell_type": "code",
   "execution_count": 7,
   "metadata": {},
   "outputs": [],
   "source": [
    "sessions_df_last['click_avg']= sessions_df_last.apply(calc_click, axis=1)"
   ]
  },
  {
   "cell_type": "markdown",
   "metadata": {},
   "source": [
    "## Extra: "
   ]
  },
  {
   "cell_type": "code",
   "execution_count": 8,
   "metadata": {},
   "outputs": [],
   "source": [
    "def calc_sum_price_ratio(row):\n",
    "    if row['sum_price_of_visited_products'] == 0:\n",
    "        return(2)\n",
    "    else:\n",
    "        return row['sum_price_of_products_in_basket']/row['sum_price_of_visited_products']"
   ]
  },
  {
   "cell_type": "code",
   "execution_count": 9,
   "metadata": {},
   "outputs": [],
   "source": [
    "sessions_df_last['sum_price_ratio'] = sessions_df_last.apply(calc_sum_price_ratio, axis=1)"
   ]
  },
  {
   "cell_type": "code",
   "execution_count": 10,
   "metadata": {},
   "outputs": [],
   "source": [
    "def calc_max_price_ratio(row):\n",
    "    if(row['maximum_price_of_visited_products']==0):\n",
    "        return(-1)\n",
    "    else:\n",
    "        return row['price_of_more_expensive_product_in_basket']/row['maximum_price_of_visited_products']"
   ]
  },
  {
   "cell_type": "code",
   "execution_count": 11,
   "metadata": {},
   "outputs": [],
   "source": [
    "sessions_df_last['max_price_ratio'] = sessions_df_last.apply(calc_max_price_ratio, axis=1)"
   ]
  },
  {
   "cell_type": "code",
   "execution_count": 12,
   "metadata": {},
   "outputs": [],
   "source": [
    "def calc_min_price_ratio(row):\n",
    "    if(row['minimum_price_of_visited_products']==0):\n",
    "        return(-1)\n",
    "    else:\n",
    "        return row['price_of_cheapest_product_in_basket']/row['minimum_price_of_visited_products']"
   ]
  },
  {
   "cell_type": "code",
   "execution_count": 13,
   "metadata": {},
   "outputs": [],
   "source": [
    "sessions_df_last['min_price_ratio'] = sessions_df_last.apply(calc_min_price_ratio, axis=1)"
   ]
  },
  {
   "cell_type": "code",
   "execution_count": 14,
   "metadata": {},
   "outputs": [],
   "source": [
    "def calc_mean_price_in_basket(row):\n",
    "    if(row['basket_element_number']==0):\n",
    "        return(0)\n",
    "    else:\n",
    "        return row['sum_price_of_products_in_basket']/row['basket_element_number']"
   ]
  },
  {
   "cell_type": "code",
   "execution_count": 15,
   "metadata": {},
   "outputs": [],
   "source": [
    "sessions_df_last['mean_price_in_basket'] = sessions_df_last.apply(calc_mean_price_in_basket, axis=1)"
   ]
  },
  {
   "cell_type": "code",
   "execution_count": 16,
   "metadata": {},
   "outputs": [],
   "source": [
    "sessions_df_last['new_cust_value'] = sessions_df_last['customer_value']*sessions_df_last['level_of_purchasing_process']"
   ]
  },
  {
   "cell_type": "markdown",
   "metadata": {},
   "source": [
    "---"
   ]
  },
  {
   "cell_type": "code",
   "execution_count": 17,
   "metadata": {},
   "outputs": [
    {
     "name": "stdout",
     "output_type": "stream",
     "text": [
      "features_last:  (49086, 27)\n"
     ]
    }
   ],
   "source": [
    "last_colnames = list(sessions_df_last.columns)\n",
    "last_colnames.remove('test_or_train_flag')\n",
    "last_colnames.remove('TARGET_successful_purchase')\n",
    "last_colnames.remove('start_date_of_session')\n",
    "last_colnames.remove('start_time_of_session')\n",
    "last_colnames.remove('datetime')\n",
    "features_last = sessions_df_last[last_colnames].copy()\n",
    "print(\"features_last: \", features_last.shape)"
   ]
  },
  {
   "cell_type": "code",
   "execution_count": 18,
   "metadata": {},
   "outputs": [
    {
     "data": {
      "text/plain": [
       "['last_basket_element_number',\n",
       " 'last_click_num',\n",
       " 'last_customer_age',\n",
       " 'last_customer_value',\n",
       " 'last_duration_of_session',\n",
       " 'last_last_order_of_customer',\n",
       " 'last_level_of_purchasing_process',\n",
       " 'last_lifetime_customer_account',\n",
       " 'last_max_val',\n",
       " 'last_maximum_price_of_visited_products',\n",
       " 'last_minimum_price_of_visited_products',\n",
       " 'last_num_of_previous_payments',\n",
       " 'last_price_of_cheapest_product_in_basket',\n",
       " 'last_price_of_more_expensive_product_in_basket',\n",
       " 'last_regio_of_customer',\n",
       " 'session_id',\n",
       " 'last_sum_price_of_products_in_basket',\n",
       " 'last_sum_price_of_visited_products',\n",
       " 'last_weekday',\n",
       " 'last_hour',\n",
       " 'last_minute',\n",
       " 'last_click_avg',\n",
       " 'last_sum_price_ratio',\n",
       " 'last_max_price_ratio',\n",
       " 'last_min_price_ratio',\n",
       " 'last_mean_price_in_basket',\n",
       " 'last_new_cust_value']"
      ]
     },
     "execution_count": 18,
     "metadata": {},
     "output_type": "execute_result"
    }
   ],
   "source": [
    "for i in range(len(last_colnames)):\n",
    "    if(last_colnames[i]!=\"session_id\"):\n",
    "        last_colnames[i]=\"last_\"+last_colnames[i]\n",
    "last_colnames"
   ]
  },
  {
   "cell_type": "code",
   "execution_count": 19,
   "metadata": {},
   "outputs": [],
   "source": [
    "features_last.columns = last_colnames"
   ]
  },
  {
   "cell_type": "code",
   "execution_count": 20,
   "metadata": {},
   "outputs": [
    {
     "data": {
      "text/plain": [
       "last_basket_element_number                            0\n",
       "last_click_num                                        0\n",
       "last_customer_age                                 21372\n",
       "last_customer_value                               21659\n",
       "last_duration_of_session                              0\n",
       "last_last_order_of_customer                       21342\n",
       "last_level_of_purchasing_process                  13638\n",
       "last_lifetime_customer_account                    21659\n",
       "last_max_val                                      21659\n",
       "last_maximum_price_of_visited_products             1058\n",
       "last_minimum_price_of_visited_products             1058\n",
       "last_num_of_previous_payments                     21342\n",
       "last_price_of_cheapest_product_in_basket           1378\n",
       "last_price_of_more_expensive_product_in_basket     1378\n",
       "last_regio_of_customer                            21342\n",
       "session_id                                            0\n",
       "last_sum_price_of_products_in_basket               1378\n",
       "last_sum_price_of_visited_products                 1058\n",
       "last_weekday                                          0\n",
       "last_hour                                             0\n",
       "last_minute                                           0\n",
       "last_click_avg                                        0\n",
       "last_sum_price_ratio                               1378\n",
       "last_max_price_ratio                               1378\n",
       "last_min_price_ratio                               1374\n",
       "last_mean_price_in_basket                           946\n",
       "last_new_cust_value                               26972\n",
       "dtype: int64"
      ]
     },
     "execution_count": 20,
     "metadata": {},
     "output_type": "execute_result"
    }
   ],
   "source": [
    "features_last.isna().sum()"
   ]
  },
  {
   "cell_type": "code",
   "execution_count": 21,
   "metadata": {
    "scrolled": true
   },
   "outputs": [
    {
     "data": {
      "text/html": [
       "<div>\n",
       "<style scoped>\n",
       "    .dataframe tbody tr th:only-of-type {\n",
       "        vertical-align: middle;\n",
       "    }\n",
       "\n",
       "    .dataframe tbody tr th {\n",
       "        vertical-align: top;\n",
       "    }\n",
       "\n",
       "    .dataframe thead th {\n",
       "        text-align: right;\n",
       "    }\n",
       "</style>\n",
       "<table border=\"1\" class=\"dataframe\">\n",
       "  <thead>\n",
       "    <tr style=\"text-align: right;\">\n",
       "      <th></th>\n",
       "      <th>4</th>\n",
       "      <th>10</th>\n",
       "      <th>31</th>\n",
       "      <th>35</th>\n",
       "      <th>47</th>\n",
       "    </tr>\n",
       "  </thead>\n",
       "  <tbody>\n",
       "    <tr>\n",
       "      <th>last_basket_element_number</th>\n",
       "      <td>1</td>\n",
       "      <td>3</td>\n",
       "      <td>12</td>\n",
       "      <td>1</td>\n",
       "      <td>4</td>\n",
       "    </tr>\n",
       "    <tr>\n",
       "      <th>last_click_num</th>\n",
       "      <td>1</td>\n",
       "      <td>4</td>\n",
       "      <td>60</td>\n",
       "      <td>13</td>\n",
       "      <td>56</td>\n",
       "    </tr>\n",
       "    <tr>\n",
       "      <th>last_customer_age</th>\n",
       "      <td>NaN</td>\n",
       "      <td>42</td>\n",
       "      <td>31</td>\n",
       "      <td>35</td>\n",
       "      <td>NaN</td>\n",
       "    </tr>\n",
       "    <tr>\n",
       "      <th>last_customer_value</th>\n",
       "      <td>NaN</td>\n",
       "      <td>491</td>\n",
       "      <td>548</td>\n",
       "      <td>504</td>\n",
       "      <td>NaN</td>\n",
       "    </tr>\n",
       "    <tr>\n",
       "      <th>last_duration_of_session</th>\n",
       "      <td>49.166</td>\n",
       "      <td>384.522</td>\n",
       "      <td>1981.1</td>\n",
       "      <td>1471.28</td>\n",
       "      <td>1271.37</td>\n",
       "    </tr>\n",
       "    <tr>\n",
       "      <th>last_last_order_of_customer</th>\n",
       "      <td>NaN</td>\n",
       "      <td>64</td>\n",
       "      <td>42</td>\n",
       "      <td>15</td>\n",
       "      <td>NaN</td>\n",
       "    </tr>\n",
       "    <tr>\n",
       "      <th>last_level_of_purchasing_process</th>\n",
       "      <td>1</td>\n",
       "      <td>1</td>\n",
       "      <td>1</td>\n",
       "      <td>1</td>\n",
       "      <td>1</td>\n",
       "    </tr>\n",
       "    <tr>\n",
       "      <th>last_lifetime_customer_account</th>\n",
       "      <td>NaN</td>\n",
       "      <td>204</td>\n",
       "      <td>45</td>\n",
       "      <td>138</td>\n",
       "      <td>NaN</td>\n",
       "    </tr>\n",
       "    <tr>\n",
       "      <th>last_max_val</th>\n",
       "      <td>NaN</td>\n",
       "      <td>600</td>\n",
       "      <td>300</td>\n",
       "      <td>1300</td>\n",
       "      <td>NaN</td>\n",
       "    </tr>\n",
       "    <tr>\n",
       "      <th>last_maximum_price_of_visited_products</th>\n",
       "      <td>49.99</td>\n",
       "      <td>39.99</td>\n",
       "      <td>89.99</td>\n",
       "      <td>54.99</td>\n",
       "      <td>49.95</td>\n",
       "    </tr>\n",
       "    <tr>\n",
       "      <th>last_minimum_price_of_visited_products</th>\n",
       "      <td>49.99</td>\n",
       "      <td>9.99</td>\n",
       "      <td>6.99</td>\n",
       "      <td>39.99</td>\n",
       "      <td>17.99</td>\n",
       "    </tr>\n",
       "    <tr>\n",
       "      <th>last_num_of_previous_payments</th>\n",
       "      <td>NaN</td>\n",
       "      <td>2</td>\n",
       "      <td>4</td>\n",
       "      <td>12</td>\n",
       "      <td>NaN</td>\n",
       "    </tr>\n",
       "    <tr>\n",
       "      <th>last_price_of_cheapest_product_in_basket</th>\n",
       "      <td>49.99</td>\n",
       "      <td>9.99</td>\n",
       "      <td>9.99</td>\n",
       "      <td>39.99</td>\n",
       "      <td>39.99</td>\n",
       "    </tr>\n",
       "    <tr>\n",
       "      <th>last_price_of_more_expensive_product_in_basket</th>\n",
       "      <td>49.99</td>\n",
       "      <td>39.99</td>\n",
       "      <td>39.99</td>\n",
       "      <td>39.99</td>\n",
       "      <td>39.99</td>\n",
       "    </tr>\n",
       "    <tr>\n",
       "      <th>last_regio_of_customer</th>\n",
       "      <td>NaN</td>\n",
       "      <td>2</td>\n",
       "      <td>2</td>\n",
       "      <td>1</td>\n",
       "      <td>NaN</td>\n",
       "    </tr>\n",
       "    <tr>\n",
       "      <th>session_id</th>\n",
       "      <td>exxxxxshop.si-0.00021101047198248773</td>\n",
       "      <td>exxxxxshop.si-0.0002712991769484001</td>\n",
       "      <td>exxxxxshop.si-0.00033158788092821383</td>\n",
       "      <td>exxxxxshop.si-0.00039187658370279567</td>\n",
       "      <td>exxxxxshop.si-0.0004521652850530127</td>\n",
       "    </tr>\n",
       "    <tr>\n",
       "      <th>last_sum_price_of_products_in_basket</th>\n",
       "      <td>49.99</td>\n",
       "      <td>69.97</td>\n",
       "      <td>253.8</td>\n",
       "      <td>39.99</td>\n",
       "      <td>159.96</td>\n",
       "    </tr>\n",
       "    <tr>\n",
       "      <th>last_sum_price_of_visited_products</th>\n",
       "      <td>49.99</td>\n",
       "      <td>89.96</td>\n",
       "      <td>1660.16</td>\n",
       "      <td>134.97</td>\n",
       "      <td>2069.24</td>\n",
       "    </tr>\n",
       "    <tr>\n",
       "      <th>last_weekday</th>\n",
       "      <td>4</td>\n",
       "      <td>4</td>\n",
       "      <td>4</td>\n",
       "      <td>4</td>\n",
       "      <td>4</td>\n",
       "    </tr>\n",
       "    <tr>\n",
       "      <th>last_hour</th>\n",
       "      <td>10</td>\n",
       "      <td>10</td>\n",
       "      <td>11</td>\n",
       "      <td>11</td>\n",
       "      <td>12</td>\n",
       "    </tr>\n",
       "    <tr>\n",
       "      <th>last_minute</th>\n",
       "      <td>30</td>\n",
       "      <td>20</td>\n",
       "      <td>10</td>\n",
       "      <td>0</td>\n",
       "      <td>50</td>\n",
       "    </tr>\n",
       "    <tr>\n",
       "      <th>last_click_avg</th>\n",
       "      <td>49.166</td>\n",
       "      <td>96.1305</td>\n",
       "      <td>33.0183</td>\n",
       "      <td>113.175</td>\n",
       "      <td>22.703</td>\n",
       "    </tr>\n",
       "    <tr>\n",
       "      <th>last_sum_price_ratio</th>\n",
       "      <td>1</td>\n",
       "      <td>0.77779</td>\n",
       "      <td>0.152877</td>\n",
       "      <td>0.296288</td>\n",
       "      <td>0.0773037</td>\n",
       "    </tr>\n",
       "    <tr>\n",
       "      <th>last_max_price_ratio</th>\n",
       "      <td>1</td>\n",
       "      <td>1</td>\n",
       "      <td>0.444383</td>\n",
       "      <td>0.727223</td>\n",
       "      <td>0.800601</td>\n",
       "    </tr>\n",
       "    <tr>\n",
       "      <th>last_min_price_ratio</th>\n",
       "      <td>1</td>\n",
       "      <td>1</td>\n",
       "      <td>1.42918</td>\n",
       "      <td>1</td>\n",
       "      <td>2.2229</td>\n",
       "    </tr>\n",
       "    <tr>\n",
       "      <th>last_mean_price_in_basket</th>\n",
       "      <td>49.99</td>\n",
       "      <td>23.3233</td>\n",
       "      <td>21.15</td>\n",
       "      <td>39.99</td>\n",
       "      <td>39.99</td>\n",
       "    </tr>\n",
       "    <tr>\n",
       "      <th>last_new_cust_value</th>\n",
       "      <td>NaN</td>\n",
       "      <td>491</td>\n",
       "      <td>548</td>\n",
       "      <td>504</td>\n",
       "      <td>NaN</td>\n",
       "    </tr>\n",
       "  </tbody>\n",
       "</table>\n",
       "</div>"
      ],
      "text/plain": [
       "                                                                                  4   \\\n",
       "last_basket_element_number                                                         1   \n",
       "last_click_num                                                                     1   \n",
       "last_customer_age                                                                NaN   \n",
       "last_customer_value                                                              NaN   \n",
       "last_duration_of_session                                                      49.166   \n",
       "last_last_order_of_customer                                                      NaN   \n",
       "last_level_of_purchasing_process                                                   1   \n",
       "last_lifetime_customer_account                                                   NaN   \n",
       "last_max_val                                                                     NaN   \n",
       "last_maximum_price_of_visited_products                                         49.99   \n",
       "last_minimum_price_of_visited_products                                         49.99   \n",
       "last_num_of_previous_payments                                                    NaN   \n",
       "last_price_of_cheapest_product_in_basket                                       49.99   \n",
       "last_price_of_more_expensive_product_in_basket                                 49.99   \n",
       "last_regio_of_customer                                                           NaN   \n",
       "session_id                                      exxxxxshop.si-0.00021101047198248773   \n",
       "last_sum_price_of_products_in_basket                                           49.99   \n",
       "last_sum_price_of_visited_products                                             49.99   \n",
       "last_weekday                                                                       4   \n",
       "last_hour                                                                         10   \n",
       "last_minute                                                                       30   \n",
       "last_click_avg                                                                49.166   \n",
       "last_sum_price_ratio                                                               1   \n",
       "last_max_price_ratio                                                               1   \n",
       "last_min_price_ratio                                                               1   \n",
       "last_mean_price_in_basket                                                      49.99   \n",
       "last_new_cust_value                                                              NaN   \n",
       "\n",
       "                                                                                 10  \\\n",
       "last_basket_element_number                                                        3   \n",
       "last_click_num                                                                    4   \n",
       "last_customer_age                                                                42   \n",
       "last_customer_value                                                             491   \n",
       "last_duration_of_session                                                    384.522   \n",
       "last_last_order_of_customer                                                      64   \n",
       "last_level_of_purchasing_process                                                  1   \n",
       "last_lifetime_customer_account                                                  204   \n",
       "last_max_val                                                                    600   \n",
       "last_maximum_price_of_visited_products                                        39.99   \n",
       "last_minimum_price_of_visited_products                                         9.99   \n",
       "last_num_of_previous_payments                                                     2   \n",
       "last_price_of_cheapest_product_in_basket                                       9.99   \n",
       "last_price_of_more_expensive_product_in_basket                                39.99   \n",
       "last_regio_of_customer                                                            2   \n",
       "session_id                                      exxxxxshop.si-0.0002712991769484001   \n",
       "last_sum_price_of_products_in_basket                                          69.97   \n",
       "last_sum_price_of_visited_products                                            89.96   \n",
       "last_weekday                                                                      4   \n",
       "last_hour                                                                        10   \n",
       "last_minute                                                                      20   \n",
       "last_click_avg                                                              96.1305   \n",
       "last_sum_price_ratio                                                        0.77779   \n",
       "last_max_price_ratio                                                              1   \n",
       "last_min_price_ratio                                                              1   \n",
       "last_mean_price_in_basket                                                   23.3233   \n",
       "last_new_cust_value                                                             491   \n",
       "\n",
       "                                                                                  31  \\\n",
       "last_basket_element_number                                                        12   \n",
       "last_click_num                                                                    60   \n",
       "last_customer_age                                                                 31   \n",
       "last_customer_value                                                              548   \n",
       "last_duration_of_session                                                      1981.1   \n",
       "last_last_order_of_customer                                                       42   \n",
       "last_level_of_purchasing_process                                                   1   \n",
       "last_lifetime_customer_account                                                    45   \n",
       "last_max_val                                                                     300   \n",
       "last_maximum_price_of_visited_products                                         89.99   \n",
       "last_minimum_price_of_visited_products                                          6.99   \n",
       "last_num_of_previous_payments                                                      4   \n",
       "last_price_of_cheapest_product_in_basket                                        9.99   \n",
       "last_price_of_more_expensive_product_in_basket                                 39.99   \n",
       "last_regio_of_customer                                                             2   \n",
       "session_id                                      exxxxxshop.si-0.00033158788092821383   \n",
       "last_sum_price_of_products_in_basket                                           253.8   \n",
       "last_sum_price_of_visited_products                                           1660.16   \n",
       "last_weekday                                                                       4   \n",
       "last_hour                                                                         11   \n",
       "last_minute                                                                       10   \n",
       "last_click_avg                                                               33.0183   \n",
       "last_sum_price_ratio                                                        0.152877   \n",
       "last_max_price_ratio                                                        0.444383   \n",
       "last_min_price_ratio                                                         1.42918   \n",
       "last_mean_price_in_basket                                                      21.15   \n",
       "last_new_cust_value                                                              548   \n",
       "\n",
       "                                                                                  35  \\\n",
       "last_basket_element_number                                                         1   \n",
       "last_click_num                                                                    13   \n",
       "last_customer_age                                                                 35   \n",
       "last_customer_value                                                              504   \n",
       "last_duration_of_session                                                     1471.28   \n",
       "last_last_order_of_customer                                                       15   \n",
       "last_level_of_purchasing_process                                                   1   \n",
       "last_lifetime_customer_account                                                   138   \n",
       "last_max_val                                                                    1300   \n",
       "last_maximum_price_of_visited_products                                         54.99   \n",
       "last_minimum_price_of_visited_products                                         39.99   \n",
       "last_num_of_previous_payments                                                     12   \n",
       "last_price_of_cheapest_product_in_basket                                       39.99   \n",
       "last_price_of_more_expensive_product_in_basket                                 39.99   \n",
       "last_regio_of_customer                                                             1   \n",
       "session_id                                      exxxxxshop.si-0.00039187658370279567   \n",
       "last_sum_price_of_products_in_basket                                           39.99   \n",
       "last_sum_price_of_visited_products                                            134.97   \n",
       "last_weekday                                                                       4   \n",
       "last_hour                                                                         11   \n",
       "last_minute                                                                        0   \n",
       "last_click_avg                                                               113.175   \n",
       "last_sum_price_ratio                                                        0.296288   \n",
       "last_max_price_ratio                                                        0.727223   \n",
       "last_min_price_ratio                                                               1   \n",
       "last_mean_price_in_basket                                                      39.99   \n",
       "last_new_cust_value                                                              504   \n",
       "\n",
       "                                                                                 47  \n",
       "last_basket_element_number                                                        4  \n",
       "last_click_num                                                                   56  \n",
       "last_customer_age                                                               NaN  \n",
       "last_customer_value                                                             NaN  \n",
       "last_duration_of_session                                                    1271.37  \n",
       "last_last_order_of_customer                                                     NaN  \n",
       "last_level_of_purchasing_process                                                  1  \n",
       "last_lifetime_customer_account                                                  NaN  \n",
       "last_max_val                                                                    NaN  \n",
       "last_maximum_price_of_visited_products                                        49.95  \n",
       "last_minimum_price_of_visited_products                                        17.99  \n",
       "last_num_of_previous_payments                                                   NaN  \n",
       "last_price_of_cheapest_product_in_basket                                      39.99  \n",
       "last_price_of_more_expensive_product_in_basket                                39.99  \n",
       "last_regio_of_customer                                                          NaN  \n",
       "session_id                                      exxxxxshop.si-0.0004521652850530127  \n",
       "last_sum_price_of_products_in_basket                                         159.96  \n",
       "last_sum_price_of_visited_products                                          2069.24  \n",
       "last_weekday                                                                      4  \n",
       "last_hour                                                                        12  \n",
       "last_minute                                                                      50  \n",
       "last_click_avg                                                               22.703  \n",
       "last_sum_price_ratio                                                      0.0773037  \n",
       "last_max_price_ratio                                                       0.800601  \n",
       "last_min_price_ratio                                                         2.2229  \n",
       "last_mean_price_in_basket                                                     39.99  \n",
       "last_new_cust_value                                                             NaN  "
      ]
     },
     "execution_count": 21,
     "metadata": {},
     "output_type": "execute_result"
    }
   ],
   "source": [
    "features_last.head().T"
   ]
  },
  {
   "cell_type": "code",
   "execution_count": 22,
   "metadata": {},
   "outputs": [
    {
     "data": {
      "text/html": [
       "<div>\n",
       "<style scoped>\n",
       "    .dataframe tbody tr th:only-of-type {\n",
       "        vertical-align: middle;\n",
       "    }\n",
       "\n",
       "    .dataframe tbody tr th {\n",
       "        vertical-align: top;\n",
       "    }\n",
       "\n",
       "    .dataframe thead th {\n",
       "        text-align: right;\n",
       "    }\n",
       "</style>\n",
       "<table border=\"1\" class=\"dataframe\">\n",
       "  <thead>\n",
       "    <tr style=\"text-align: right;\">\n",
       "      <th></th>\n",
       "      <th>0</th>\n",
       "      <th>1</th>\n",
       "      <th>2</th>\n",
       "      <th>3</th>\n",
       "      <th>4</th>\n",
       "    </tr>\n",
       "  </thead>\n",
       "  <tbody>\n",
       "    <tr>\n",
       "      <th>session_id</th>\n",
       "      <td>exxxxxshop.si-0.00021101047198248773</td>\n",
       "      <td>exxxxxshop.si-0.0002712991769484001</td>\n",
       "      <td>exxxxxshop.si-0.00033158788092821383</td>\n",
       "      <td>exxxxxshop.si-0.00039187658370279567</td>\n",
       "      <td>exxxxxshop.si-0.0004521652850530127</td>\n",
       "    </tr>\n",
       "    <tr>\n",
       "      <th>TARGET_successful_purchase</th>\n",
       "      <td>NaN</td>\n",
       "      <td>NaN</td>\n",
       "      <td>NaN</td>\n",
       "      <td>NaN</td>\n",
       "      <td>NaN</td>\n",
       "    </tr>\n",
       "    <tr>\n",
       "      <th>test_or_train_flag</th>\n",
       "      <td>1</td>\n",
       "      <td>1</td>\n",
       "      <td>1</td>\n",
       "      <td>1</td>\n",
       "      <td>1</td>\n",
       "    </tr>\n",
       "    <tr>\n",
       "      <th>last_basket_element_number</th>\n",
       "      <td>1</td>\n",
       "      <td>3</td>\n",
       "      <td>12</td>\n",
       "      <td>1</td>\n",
       "      <td>4</td>\n",
       "    </tr>\n",
       "    <tr>\n",
       "      <th>last_click_num</th>\n",
       "      <td>1</td>\n",
       "      <td>4</td>\n",
       "      <td>60</td>\n",
       "      <td>13</td>\n",
       "      <td>56</td>\n",
       "    </tr>\n",
       "    <tr>\n",
       "      <th>last_customer_age</th>\n",
       "      <td>NaN</td>\n",
       "      <td>42</td>\n",
       "      <td>31</td>\n",
       "      <td>35</td>\n",
       "      <td>NaN</td>\n",
       "    </tr>\n",
       "    <tr>\n",
       "      <th>last_customer_value</th>\n",
       "      <td>NaN</td>\n",
       "      <td>491</td>\n",
       "      <td>548</td>\n",
       "      <td>504</td>\n",
       "      <td>NaN</td>\n",
       "    </tr>\n",
       "    <tr>\n",
       "      <th>last_duration_of_session</th>\n",
       "      <td>49.166</td>\n",
       "      <td>384.522</td>\n",
       "      <td>1981.1</td>\n",
       "      <td>1471.28</td>\n",
       "      <td>1271.37</td>\n",
       "    </tr>\n",
       "    <tr>\n",
       "      <th>last_last_order_of_customer</th>\n",
       "      <td>NaN</td>\n",
       "      <td>64</td>\n",
       "      <td>42</td>\n",
       "      <td>15</td>\n",
       "      <td>NaN</td>\n",
       "    </tr>\n",
       "    <tr>\n",
       "      <th>last_level_of_purchasing_process</th>\n",
       "      <td>1</td>\n",
       "      <td>1</td>\n",
       "      <td>1</td>\n",
       "      <td>1</td>\n",
       "      <td>1</td>\n",
       "    </tr>\n",
       "    <tr>\n",
       "      <th>last_lifetime_customer_account</th>\n",
       "      <td>NaN</td>\n",
       "      <td>204</td>\n",
       "      <td>45</td>\n",
       "      <td>138</td>\n",
       "      <td>NaN</td>\n",
       "    </tr>\n",
       "    <tr>\n",
       "      <th>last_max_val</th>\n",
       "      <td>NaN</td>\n",
       "      <td>600</td>\n",
       "      <td>300</td>\n",
       "      <td>1300</td>\n",
       "      <td>NaN</td>\n",
       "    </tr>\n",
       "    <tr>\n",
       "      <th>last_maximum_price_of_visited_products</th>\n",
       "      <td>49.99</td>\n",
       "      <td>39.99</td>\n",
       "      <td>89.99</td>\n",
       "      <td>54.99</td>\n",
       "      <td>49.95</td>\n",
       "    </tr>\n",
       "    <tr>\n",
       "      <th>last_minimum_price_of_visited_products</th>\n",
       "      <td>49.99</td>\n",
       "      <td>9.99</td>\n",
       "      <td>6.99</td>\n",
       "      <td>39.99</td>\n",
       "      <td>17.99</td>\n",
       "    </tr>\n",
       "    <tr>\n",
       "      <th>last_num_of_previous_payments</th>\n",
       "      <td>NaN</td>\n",
       "      <td>2</td>\n",
       "      <td>4</td>\n",
       "      <td>12</td>\n",
       "      <td>NaN</td>\n",
       "    </tr>\n",
       "    <tr>\n",
       "      <th>last_price_of_cheapest_product_in_basket</th>\n",
       "      <td>49.99</td>\n",
       "      <td>9.99</td>\n",
       "      <td>9.99</td>\n",
       "      <td>39.99</td>\n",
       "      <td>39.99</td>\n",
       "    </tr>\n",
       "    <tr>\n",
       "      <th>last_price_of_more_expensive_product_in_basket</th>\n",
       "      <td>49.99</td>\n",
       "      <td>39.99</td>\n",
       "      <td>39.99</td>\n",
       "      <td>39.99</td>\n",
       "      <td>39.99</td>\n",
       "    </tr>\n",
       "    <tr>\n",
       "      <th>last_regio_of_customer</th>\n",
       "      <td>NaN</td>\n",
       "      <td>2</td>\n",
       "      <td>2</td>\n",
       "      <td>1</td>\n",
       "      <td>NaN</td>\n",
       "    </tr>\n",
       "    <tr>\n",
       "      <th>last_sum_price_of_products_in_basket</th>\n",
       "      <td>49.99</td>\n",
       "      <td>69.97</td>\n",
       "      <td>253.8</td>\n",
       "      <td>39.99</td>\n",
       "      <td>159.96</td>\n",
       "    </tr>\n",
       "    <tr>\n",
       "      <th>last_sum_price_of_visited_products</th>\n",
       "      <td>49.99</td>\n",
       "      <td>89.96</td>\n",
       "      <td>1660.16</td>\n",
       "      <td>134.97</td>\n",
       "      <td>2069.24</td>\n",
       "    </tr>\n",
       "    <tr>\n",
       "      <th>last_weekday</th>\n",
       "      <td>4</td>\n",
       "      <td>4</td>\n",
       "      <td>4</td>\n",
       "      <td>4</td>\n",
       "      <td>4</td>\n",
       "    </tr>\n",
       "    <tr>\n",
       "      <th>last_hour</th>\n",
       "      <td>10</td>\n",
       "      <td>10</td>\n",
       "      <td>11</td>\n",
       "      <td>11</td>\n",
       "      <td>12</td>\n",
       "    </tr>\n",
       "    <tr>\n",
       "      <th>last_minute</th>\n",
       "      <td>30</td>\n",
       "      <td>20</td>\n",
       "      <td>10</td>\n",
       "      <td>0</td>\n",
       "      <td>50</td>\n",
       "    </tr>\n",
       "    <tr>\n",
       "      <th>last_click_avg</th>\n",
       "      <td>49.166</td>\n",
       "      <td>96.1305</td>\n",
       "      <td>33.0183</td>\n",
       "      <td>113.175</td>\n",
       "      <td>22.703</td>\n",
       "    </tr>\n",
       "    <tr>\n",
       "      <th>last_sum_price_ratio</th>\n",
       "      <td>1</td>\n",
       "      <td>0.77779</td>\n",
       "      <td>0.152877</td>\n",
       "      <td>0.296288</td>\n",
       "      <td>0.0773037</td>\n",
       "    </tr>\n",
       "    <tr>\n",
       "      <th>last_max_price_ratio</th>\n",
       "      <td>1</td>\n",
       "      <td>1</td>\n",
       "      <td>0.444383</td>\n",
       "      <td>0.727223</td>\n",
       "      <td>0.800601</td>\n",
       "    </tr>\n",
       "    <tr>\n",
       "      <th>last_min_price_ratio</th>\n",
       "      <td>1</td>\n",
       "      <td>1</td>\n",
       "      <td>1.42918</td>\n",
       "      <td>1</td>\n",
       "      <td>2.2229</td>\n",
       "    </tr>\n",
       "    <tr>\n",
       "      <th>last_mean_price_in_basket</th>\n",
       "      <td>49.99</td>\n",
       "      <td>23.3233</td>\n",
       "      <td>21.15</td>\n",
       "      <td>39.99</td>\n",
       "      <td>39.99</td>\n",
       "    </tr>\n",
       "    <tr>\n",
       "      <th>last_new_cust_value</th>\n",
       "      <td>NaN</td>\n",
       "      <td>491</td>\n",
       "      <td>548</td>\n",
       "      <td>504</td>\n",
       "      <td>NaN</td>\n",
       "    </tr>\n",
       "  </tbody>\n",
       "</table>\n",
       "</div>"
      ],
      "text/plain": [
       "                                                                                   0  \\\n",
       "session_id                                      exxxxxshop.si-0.00021101047198248773   \n",
       "TARGET_successful_purchase                                                       NaN   \n",
       "test_or_train_flag                                                                 1   \n",
       "last_basket_element_number                                                         1   \n",
       "last_click_num                                                                     1   \n",
       "last_customer_age                                                                NaN   \n",
       "last_customer_value                                                              NaN   \n",
       "last_duration_of_session                                                      49.166   \n",
       "last_last_order_of_customer                                                      NaN   \n",
       "last_level_of_purchasing_process                                                   1   \n",
       "last_lifetime_customer_account                                                   NaN   \n",
       "last_max_val                                                                     NaN   \n",
       "last_maximum_price_of_visited_products                                         49.99   \n",
       "last_minimum_price_of_visited_products                                         49.99   \n",
       "last_num_of_previous_payments                                                    NaN   \n",
       "last_price_of_cheapest_product_in_basket                                       49.99   \n",
       "last_price_of_more_expensive_product_in_basket                                 49.99   \n",
       "last_regio_of_customer                                                           NaN   \n",
       "last_sum_price_of_products_in_basket                                           49.99   \n",
       "last_sum_price_of_visited_products                                             49.99   \n",
       "last_weekday                                                                       4   \n",
       "last_hour                                                                         10   \n",
       "last_minute                                                                       30   \n",
       "last_click_avg                                                                49.166   \n",
       "last_sum_price_ratio                                                               1   \n",
       "last_max_price_ratio                                                               1   \n",
       "last_min_price_ratio                                                               1   \n",
       "last_mean_price_in_basket                                                      49.99   \n",
       "last_new_cust_value                                                              NaN   \n",
       "\n",
       "                                                                                  1  \\\n",
       "session_id                                      exxxxxshop.si-0.0002712991769484001   \n",
       "TARGET_successful_purchase                                                      NaN   \n",
       "test_or_train_flag                                                                1   \n",
       "last_basket_element_number                                                        3   \n",
       "last_click_num                                                                    4   \n",
       "last_customer_age                                                                42   \n",
       "last_customer_value                                                             491   \n",
       "last_duration_of_session                                                    384.522   \n",
       "last_last_order_of_customer                                                      64   \n",
       "last_level_of_purchasing_process                                                  1   \n",
       "last_lifetime_customer_account                                                  204   \n",
       "last_max_val                                                                    600   \n",
       "last_maximum_price_of_visited_products                                        39.99   \n",
       "last_minimum_price_of_visited_products                                         9.99   \n",
       "last_num_of_previous_payments                                                     2   \n",
       "last_price_of_cheapest_product_in_basket                                       9.99   \n",
       "last_price_of_more_expensive_product_in_basket                                39.99   \n",
       "last_regio_of_customer                                                            2   \n",
       "last_sum_price_of_products_in_basket                                          69.97   \n",
       "last_sum_price_of_visited_products                                            89.96   \n",
       "last_weekday                                                                      4   \n",
       "last_hour                                                                        10   \n",
       "last_minute                                                                      20   \n",
       "last_click_avg                                                              96.1305   \n",
       "last_sum_price_ratio                                                        0.77779   \n",
       "last_max_price_ratio                                                              1   \n",
       "last_min_price_ratio                                                              1   \n",
       "last_mean_price_in_basket                                                   23.3233   \n",
       "last_new_cust_value                                                             491   \n",
       "\n",
       "                                                                                   2  \\\n",
       "session_id                                      exxxxxshop.si-0.00033158788092821383   \n",
       "TARGET_successful_purchase                                                       NaN   \n",
       "test_or_train_flag                                                                 1   \n",
       "last_basket_element_number                                                        12   \n",
       "last_click_num                                                                    60   \n",
       "last_customer_age                                                                 31   \n",
       "last_customer_value                                                              548   \n",
       "last_duration_of_session                                                      1981.1   \n",
       "last_last_order_of_customer                                                       42   \n",
       "last_level_of_purchasing_process                                                   1   \n",
       "last_lifetime_customer_account                                                    45   \n",
       "last_max_val                                                                     300   \n",
       "last_maximum_price_of_visited_products                                         89.99   \n",
       "last_minimum_price_of_visited_products                                          6.99   \n",
       "last_num_of_previous_payments                                                      4   \n",
       "last_price_of_cheapest_product_in_basket                                        9.99   \n",
       "last_price_of_more_expensive_product_in_basket                                 39.99   \n",
       "last_regio_of_customer                                                             2   \n",
       "last_sum_price_of_products_in_basket                                           253.8   \n",
       "last_sum_price_of_visited_products                                           1660.16   \n",
       "last_weekday                                                                       4   \n",
       "last_hour                                                                         11   \n",
       "last_minute                                                                       10   \n",
       "last_click_avg                                                               33.0183   \n",
       "last_sum_price_ratio                                                        0.152877   \n",
       "last_max_price_ratio                                                        0.444383   \n",
       "last_min_price_ratio                                                         1.42918   \n",
       "last_mean_price_in_basket                                                      21.15   \n",
       "last_new_cust_value                                                              548   \n",
       "\n",
       "                                                                                   3  \\\n",
       "session_id                                      exxxxxshop.si-0.00039187658370279567   \n",
       "TARGET_successful_purchase                                                       NaN   \n",
       "test_or_train_flag                                                                 1   \n",
       "last_basket_element_number                                                         1   \n",
       "last_click_num                                                                    13   \n",
       "last_customer_age                                                                 35   \n",
       "last_customer_value                                                              504   \n",
       "last_duration_of_session                                                     1471.28   \n",
       "last_last_order_of_customer                                                       15   \n",
       "last_level_of_purchasing_process                                                   1   \n",
       "last_lifetime_customer_account                                                   138   \n",
       "last_max_val                                                                    1300   \n",
       "last_maximum_price_of_visited_products                                         54.99   \n",
       "last_minimum_price_of_visited_products                                         39.99   \n",
       "last_num_of_previous_payments                                                     12   \n",
       "last_price_of_cheapest_product_in_basket                                       39.99   \n",
       "last_price_of_more_expensive_product_in_basket                                 39.99   \n",
       "last_regio_of_customer                                                             1   \n",
       "last_sum_price_of_products_in_basket                                           39.99   \n",
       "last_sum_price_of_visited_products                                            134.97   \n",
       "last_weekday                                                                       4   \n",
       "last_hour                                                                         11   \n",
       "last_minute                                                                        0   \n",
       "last_click_avg                                                               113.175   \n",
       "last_sum_price_ratio                                                        0.296288   \n",
       "last_max_price_ratio                                                        0.727223   \n",
       "last_min_price_ratio                                                               1   \n",
       "last_mean_price_in_basket                                                      39.99   \n",
       "last_new_cust_value                                                              504   \n",
       "\n",
       "                                                                                  4  \n",
       "session_id                                      exxxxxshop.si-0.0004521652850530127  \n",
       "TARGET_successful_purchase                                                      NaN  \n",
       "test_or_train_flag                                                                1  \n",
       "last_basket_element_number                                                        4  \n",
       "last_click_num                                                                   56  \n",
       "last_customer_age                                                               NaN  \n",
       "last_customer_value                                                             NaN  \n",
       "last_duration_of_session                                                    1271.37  \n",
       "last_last_order_of_customer                                                     NaN  \n",
       "last_level_of_purchasing_process                                                  1  \n",
       "last_lifetime_customer_account                                                  NaN  \n",
       "last_max_val                                                                    NaN  \n",
       "last_maximum_price_of_visited_products                                        49.95  \n",
       "last_minimum_price_of_visited_products                                        17.99  \n",
       "last_num_of_previous_payments                                                   NaN  \n",
       "last_price_of_cheapest_product_in_basket                                      39.99  \n",
       "last_price_of_more_expensive_product_in_basket                                39.99  \n",
       "last_regio_of_customer                                                          NaN  \n",
       "last_sum_price_of_products_in_basket                                         159.96  \n",
       "last_sum_price_of_visited_products                                          2069.24  \n",
       "last_weekday                                                                      4  \n",
       "last_hour                                                                        12  \n",
       "last_minute                                                                      50  \n",
       "last_click_avg                                                               22.703  \n",
       "last_sum_price_ratio                                                      0.0773037  \n",
       "last_max_price_ratio                                                       0.800601  \n",
       "last_min_price_ratio                                                         2.2229  \n",
       "last_mean_price_in_basket                                                     39.99  \n",
       "last_new_cust_value                                                             NaN  "
      ]
     },
     "execution_count": 22,
     "metadata": {},
     "output_type": "execute_result"
    }
   ],
   "source": [
    "cust_df = cust_df.merge(features_last, on='session_id', how='left')\n",
    "cust_df.head().T"
   ]
  },
  {
   "cell_type": "code",
   "execution_count": 23,
   "metadata": {},
   "outputs": [
    {
     "data": {
      "text/plain": [
       "session_id                                            0\n",
       "TARGET_successful_purchase                        24502\n",
       "test_or_train_flag                                    0\n",
       "last_basket_element_number                            0\n",
       "last_click_num                                        0\n",
       "last_customer_age                                 21372\n",
       "last_customer_value                               21659\n",
       "last_duration_of_session                              0\n",
       "last_last_order_of_customer                       21342\n",
       "last_level_of_purchasing_process                  13638\n",
       "last_lifetime_customer_account                    21659\n",
       "last_max_val                                      21659\n",
       "last_maximum_price_of_visited_products             1058\n",
       "last_minimum_price_of_visited_products             1058\n",
       "last_num_of_previous_payments                     21342\n",
       "last_price_of_cheapest_product_in_basket           1378\n",
       "last_price_of_more_expensive_product_in_basket     1378\n",
       "last_regio_of_customer                            21342\n",
       "last_sum_price_of_products_in_basket               1378\n",
       "last_sum_price_of_visited_products                 1058\n",
       "last_weekday                                          0\n",
       "last_hour                                             0\n",
       "last_minute                                           0\n",
       "last_click_avg                                        0\n",
       "last_sum_price_ratio                               1378\n",
       "last_max_price_ratio                               1378\n",
       "last_min_price_ratio                               1374\n",
       "last_mean_price_in_basket                           946\n",
       "last_new_cust_value                               26972\n",
       "dtype: int64"
      ]
     },
     "execution_count": 23,
     "metadata": {},
     "output_type": "execute_result"
    }
   ],
   "source": [
    "cust_df.isna().sum()"
   ]
  },
  {
   "cell_type": "code",
   "execution_count": 24,
   "metadata": {},
   "outputs": [
    {
     "data": {
      "text/plain": [
       "(24502, 29)"
      ]
     },
     "execution_count": 24,
     "metadata": {},
     "output_type": "execute_result"
    }
   ],
   "source": [
    "df_na = cust_df[cust_df['TARGET_successful_purchase'].isna()]\n",
    "df_na.shape"
   ]
  },
  {
   "cell_type": "code",
   "execution_count": 25,
   "metadata": {},
   "outputs": [
    {
     "data": {
      "text/plain": [
       "session_id                                            0\n",
       "TARGET_successful_purchase                        24502\n",
       "test_or_train_flag                                    0\n",
       "last_basket_element_number                            0\n",
       "last_click_num                                        0\n",
       "last_customer_age                                 10694\n",
       "last_customer_value                               10835\n",
       "last_duration_of_session                              0\n",
       "last_last_order_of_customer                       10677\n",
       "last_level_of_purchasing_process                   6762\n",
       "last_lifetime_customer_account                    10835\n",
       "last_max_val                                      10835\n",
       "last_maximum_price_of_visited_products              564\n",
       "last_minimum_price_of_visited_products              564\n",
       "last_num_of_previous_payments                     10677\n",
       "last_price_of_cheapest_product_in_basket            719\n",
       "last_price_of_more_expensive_product_in_basket      719\n",
       "last_regio_of_customer                            10677\n",
       "last_sum_price_of_products_in_basket                719\n",
       "last_sum_price_of_visited_products                  564\n",
       "last_weekday                                          0\n",
       "last_hour                                             0\n",
       "last_minute                                           0\n",
       "last_click_avg                                        0\n",
       "last_sum_price_ratio                                719\n",
       "last_max_price_ratio                                719\n",
       "last_min_price_ratio                                717\n",
       "last_mean_price_in_basket                           492\n",
       "last_new_cust_value                               13415\n",
       "dtype: int64"
      ]
     },
     "execution_count": 25,
     "metadata": {},
     "output_type": "execute_result"
    }
   ],
   "source": [
    "df_na.isna().sum()"
   ]
  },
  {
   "cell_type": "markdown",
   "metadata": {},
   "source": [
    "##  2. Aggregálós módszer - órai 2."
   ]
  },
  {
   "cell_type": "code",
   "execution_count": 26,
   "metadata": {},
   "outputs": [],
   "source": [
    "sorted_df = alldf.sort_values(['session_id', 'duration_of_session', 'click_num'])"
   ]
  },
  {
   "cell_type": "code",
   "execution_count": 27,
   "metadata": {},
   "outputs": [
    {
     "data": {
      "text/plain": [
       "['basket_element_number',\n",
       " 'click_num',\n",
       " 'customer_age',\n",
       " 'customer_value',\n",
       " 'duration_of_session',\n",
       " 'last_order_of_customer',\n",
       " 'level_of_purchasing_process',\n",
       " 'lifetime_customer_account',\n",
       " 'max_val',\n",
       " 'maximum_price_of_visited_products',\n",
       " 'minimum_price_of_visited_products',\n",
       " 'num_of_previous_payments',\n",
       " 'price_of_cheapest_product_in_basket',\n",
       " 'price_of_more_expensive_product_in_basket',\n",
       " 'regio_of_customer',\n",
       " 'sum_price_of_products_in_basket',\n",
       " 'sum_price_of_visited_products']"
      ]
     },
     "execution_count": 27,
     "metadata": {},
     "output_type": "execute_result"
    }
   ],
   "source": [
    "# szám változók\n",
    "aggregalando_valtozok = list(alldf.columns)\n",
    "aggregalando_valtozok.remove('test_or_train_flag')\n",
    "aggregalando_valtozok.remove(target)\n",
    "aggregalando_valtozok.remove('start_date_of_session')\n",
    "aggregalando_valtozok.remove('start_time_of_session')\n",
    "aggregalando_valtozok.remove('session_id')\n",
    "aggregalando_valtozok"
   ]
  },
  {
   "cell_type": "code",
   "execution_count": 28,
   "metadata": {},
   "outputs": [],
   "source": [
    "for aggregalos_modszer in ['min', 'max', 'mean']:\n",
    "    task = {}\n",
    "    ujoszlopnevek = []\n",
    "    for v in aggregalando_valtozok:\n",
    "        task[v] = aggregalos_modszer\n",
    "        ujoszlopnevek.append(aggregalos_modszer+\"_\"+v) # mindegyik változónévre kivéve session_id\n",
    "    stat = alldf.groupby(['session_id'], as_index=False).agg(task)\n",
    "    stat.columns = ['session_id']+ujoszlopnevek\n",
    "    cust_df = cust_df.merge(stat, on='session_id', how='left')"
   ]
  },
  {
   "cell_type": "markdown",
   "metadata": {},
   "source": [
    "Extra:"
   ]
  },
  {
   "cell_type": "code",
   "execution_count": 29,
   "metadata": {},
   "outputs": [],
   "source": [
    "stat = alldf.groupby(['session_id'], as_index=False).agg({'click_num' : 'count'})"
   ]
  },
  {
   "cell_type": "code",
   "execution_count": 30,
   "metadata": {},
   "outputs": [
    {
     "data": {
      "text/html": [
       "<div>\n",
       "<style scoped>\n",
       "    .dataframe tbody tr th:only-of-type {\n",
       "        vertical-align: middle;\n",
       "    }\n",
       "\n",
       "    .dataframe tbody tr th {\n",
       "        vertical-align: top;\n",
       "    }\n",
       "\n",
       "    .dataframe thead th {\n",
       "        text-align: right;\n",
       "    }\n",
       "</style>\n",
       "<table border=\"1\" class=\"dataframe\">\n",
       "  <thead>\n",
       "    <tr style=\"text-align: right;\">\n",
       "      <th></th>\n",
       "      <th>session_id</th>\n",
       "      <th>num_sessions</th>\n",
       "    </tr>\n",
       "  </thead>\n",
       "  <tbody>\n",
       "    <tr>\n",
       "      <th>0</th>\n",
       "      <td>exxxxxshop.si-0.00021101047198248773</td>\n",
       "      <td>5</td>\n",
       "    </tr>\n",
       "    <tr>\n",
       "      <th>1</th>\n",
       "      <td>exxxxxshop.si-0.0002712991769484001</td>\n",
       "      <td>6</td>\n",
       "    </tr>\n",
       "    <tr>\n",
       "      <th>2</th>\n",
       "      <td>exxxxxshop.si-0.00033158788092821383</td>\n",
       "      <td>21</td>\n",
       "    </tr>\n",
       "    <tr>\n",
       "      <th>3</th>\n",
       "      <td>exxxxxshop.si-0.00039187658370279567</td>\n",
       "      <td>4</td>\n",
       "    </tr>\n",
       "    <tr>\n",
       "      <th>4</th>\n",
       "      <td>exxxxxshop.si-0.0004521652850530127</td>\n",
       "      <td>12</td>\n",
       "    </tr>\n",
       "  </tbody>\n",
       "</table>\n",
       "</div>"
      ],
      "text/plain": [
       "                             session_id  num_sessions\n",
       "0  exxxxxshop.si-0.00021101047198248773             5\n",
       "1   exxxxxshop.si-0.0002712991769484001             6\n",
       "2  exxxxxshop.si-0.00033158788092821383            21\n",
       "3  exxxxxshop.si-0.00039187658370279567             4\n",
       "4   exxxxxshop.si-0.0004521652850530127            12"
      ]
     },
     "execution_count": 30,
     "metadata": {},
     "output_type": "execute_result"
    }
   ],
   "source": [
    "stat.columns=['session_id', 'num_sessions']\n",
    "stat.head()"
   ]
  },
  {
   "cell_type": "code",
   "execution_count": 31,
   "metadata": {},
   "outputs": [],
   "source": [
    "cust_df = cust_df.merge(stat, on='session_id', how='left')"
   ]
  },
  {
   "cell_type": "code",
   "execution_count": 32,
   "metadata": {},
   "outputs": [
    {
     "data": {
      "text/plain": [
       "(49086, 81)"
      ]
     },
     "execution_count": 32,
     "metadata": {},
     "output_type": "execute_result"
    }
   ],
   "source": [
    "cust_df.shape"
   ]
  },
  {
   "cell_type": "code",
   "execution_count": 33,
   "metadata": {
    "scrolled": true
   },
   "outputs": [
    {
     "data": {
      "text/plain": [
       "session_id                                            0\n",
       "TARGET_successful_purchase                        24502\n",
       "test_or_train_flag                                    0\n",
       "last_basket_element_number                            0\n",
       "last_click_num                                        0\n",
       "                                                  ...  \n",
       "mean_price_of_more_expensive_product_in_basket     1378\n",
       "mean_regio_of_customer                            21342\n",
       "mean_sum_price_of_products_in_basket               1378\n",
       "mean_sum_price_of_visited_products                 1058\n",
       "num_sessions                                          0\n",
       "Length: 81, dtype: int64"
      ]
     },
     "execution_count": 33,
     "metadata": {},
     "output_type": "execute_result"
    }
   ],
   "source": [
    "cust_df.isna().sum()"
   ]
  },
  {
   "cell_type": "markdown",
   "metadata": {},
   "source": [
    "## 3. kishazi ötletből"
   ]
  },
  {
   "cell_type": "code",
   "execution_count": 34,
   "metadata": {},
   "outputs": [],
   "source": [
    "sessions_df_first['click_avg_first']=sessions_df_first.apply(calc_click, axis=1)"
   ]
  },
  {
   "cell_type": "code",
   "execution_count": 35,
   "metadata": {},
   "outputs": [
    {
     "data": {
      "text/plain": [
       "53.014220336941314"
      ]
     },
     "execution_count": 35,
     "metadata": {},
     "output_type": "execute_result"
    }
   ],
   "source": [
    "sessions_df_first['click_avg_first'].mean()"
   ]
  },
  {
   "cell_type": "code",
   "execution_count": 36,
   "metadata": {},
   "outputs": [],
   "source": [
    "cust_df = cust_df.merge(sessions_df_first[['session_id', 'click_avg_first']], on='session_id', how='left')"
   ]
  },
  {
   "cell_type": "markdown",
   "metadata": {},
   "source": [
    "!!! fillna(-1)"
   ]
  },
  {
   "cell_type": "code",
   "execution_count": 37,
   "metadata": {},
   "outputs": [],
   "source": [
    "cust_df=cust_df.fillna(-1)"
   ]
  },
  {
   "cell_type": "code",
   "execution_count": 38,
   "metadata": {},
   "outputs": [
    {
     "data": {
      "text/plain": [
       "(49086, 82)"
      ]
     },
     "execution_count": 38,
     "metadata": {},
     "output_type": "execute_result"
    }
   ],
   "source": [
    "cust_df.shape"
   ]
  },
  {
   "cell_type": "code",
   "execution_count": 39,
   "metadata": {},
   "outputs": [
    {
     "data": {
      "text/plain": [
       "Index(['session_id', 'TARGET_successful_purchase', 'test_or_train_flag',\n",
       "       'last_basket_element_number', 'last_click_num', 'last_customer_age',\n",
       "       'last_customer_value', 'last_duration_of_session',\n",
       "       'last_last_order_of_customer', 'last_level_of_purchasing_process',\n",
       "       'last_lifetime_customer_account', 'last_max_val',\n",
       "       'last_maximum_price_of_visited_products',\n",
       "       'last_minimum_price_of_visited_products',\n",
       "       'last_num_of_previous_payments',\n",
       "       'last_price_of_cheapest_product_in_basket',\n",
       "       'last_price_of_more_expensive_product_in_basket',\n",
       "       'last_regio_of_customer', 'last_sum_price_of_products_in_basket',\n",
       "       'last_sum_price_of_visited_products', 'last_weekday', 'last_hour',\n",
       "       'last_minute', 'last_click_avg', 'last_sum_price_ratio',\n",
       "       'last_max_price_ratio', 'last_min_price_ratio',\n",
       "       'last_mean_price_in_basket', 'last_new_cust_value',\n",
       "       'min_basket_element_number', 'min_click_num', 'min_customer_age',\n",
       "       'min_customer_value', 'min_duration_of_session',\n",
       "       'min_last_order_of_customer', 'min_level_of_purchasing_process',\n",
       "       'min_lifetime_customer_account', 'min_max_val',\n",
       "       'min_maximum_price_of_visited_products',\n",
       "       'min_minimum_price_of_visited_products', 'min_num_of_previous_payments',\n",
       "       'min_price_of_cheapest_product_in_basket',\n",
       "       'min_price_of_more_expensive_product_in_basket',\n",
       "       'min_regio_of_customer', 'min_sum_price_of_products_in_basket',\n",
       "       'min_sum_price_of_visited_products', 'max_basket_element_number',\n",
       "       'max_click_num', 'max_customer_age', 'max_customer_value',\n",
       "       'max_duration_of_session', 'max_last_order_of_customer',\n",
       "       'max_level_of_purchasing_process', 'max_lifetime_customer_account',\n",
       "       'max_max_val', 'max_maximum_price_of_visited_products',\n",
       "       'max_minimum_price_of_visited_products', 'max_num_of_previous_payments',\n",
       "       'max_price_of_cheapest_product_in_basket',\n",
       "       'max_price_of_more_expensive_product_in_basket',\n",
       "       'max_regio_of_customer', 'max_sum_price_of_products_in_basket',\n",
       "       'max_sum_price_of_visited_products', 'mean_basket_element_number',\n",
       "       'mean_click_num', 'mean_customer_age', 'mean_customer_value',\n",
       "       'mean_duration_of_session', 'mean_last_order_of_customer',\n",
       "       'mean_level_of_purchasing_process', 'mean_lifetime_customer_account',\n",
       "       'mean_max_val', 'mean_maximum_price_of_visited_products',\n",
       "       'mean_minimum_price_of_visited_products',\n",
       "       'mean_num_of_previous_payments',\n",
       "       'mean_price_of_cheapest_product_in_basket',\n",
       "       'mean_price_of_more_expensive_product_in_basket',\n",
       "       'mean_regio_of_customer', 'mean_sum_price_of_products_in_basket',\n",
       "       'mean_sum_price_of_visited_products', 'num_sessions',\n",
       "       'click_avg_first'],\n",
       "      dtype='object')"
      ]
     },
     "execution_count": 39,
     "metadata": {},
     "output_type": "execute_result"
    }
   ],
   "source": [
    "cust_df.columns"
   ]
  },
  {
   "cell_type": "code",
   "execution_count": 40,
   "metadata": {},
   "outputs": [],
   "source": [
    "cust_df.to_csv(\"cust_df_tuesday2.csv\", index=False)"
   ]
  },
  {
   "cell_type": "code",
   "execution_count": null,
   "metadata": {},
   "outputs": [],
   "source": []
  }
 ],
 "metadata": {
  "kernelspec": {
   "display_name": "Python 3",
   "language": "python",
   "name": "python3"
  },
  "language_info": {
   "codemirror_mode": {
    "name": "ipython",
    "version": 3
   },
   "file_extension": ".py",
   "mimetype": "text/x-python",
   "name": "python",
   "nbconvert_exporter": "python",
   "pygments_lexer": "ipython3",
   "version": "3.6.9"
  }
 },
 "nbformat": 4,
 "nbformat_minor": 2
}
